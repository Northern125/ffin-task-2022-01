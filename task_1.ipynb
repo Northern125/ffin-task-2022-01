{
 "cells": [
  {
   "cell_type": "code",
   "execution_count": 1,
   "id": "a242fb79",
   "metadata": {},
   "outputs": [],
   "source": [
    "import json\n",
    "import pandas as pd\n",
    "import numpy as np\n",
    "from datetime import datetime\n",
    "import matplotlib.pyplot as plt\n",
    "import logging"
   ]
  },
  {
   "cell_type": "code",
   "execution_count": 2,
   "id": "ce6d0d32",
   "metadata": {},
   "outputs": [],
   "source": [
    "from pandas import IndexSlice as idx"
   ]
  },
  {
   "cell_type": "code",
   "execution_count": 3,
   "id": "8aa982b8",
   "metadata": {},
   "outputs": [],
   "source": [
    "from backtesting import perform_backtest, PortfolioBacktest\n",
    "from sharpe import calc_sharpe"
   ]
  },
  {
   "cell_type": "code",
   "execution_count": 4,
   "id": "d52a0db8",
   "metadata": {},
   "outputs": [],
   "source": [
    "source_folder = 'files'"
   ]
  },
  {
   "cell_type": "markdown",
   "id": "804762e0",
   "metadata": {},
   "source": [
    "# Constants"
   ]
  },
  {
   "cell_type": "code",
   "execution_count": 5,
   "id": "429bd9b4",
   "metadata": {},
   "outputs": [],
   "source": [
    "capital = 1e6"
   ]
  },
  {
   "cell_type": "markdown",
   "id": "b276fb51",
   "metadata": {},
   "source": [
    "# Reading data"
   ]
  },
  {
   "cell_type": "markdown",
   "id": "985cb93b",
   "metadata": {},
   "source": [
    "## VFINX"
   ]
  },
  {
   "cell_type": "code",
   "execution_count": 6,
   "id": "c3cb11bd",
   "metadata": {},
   "outputs": [],
   "source": [
    "with open(f'{source_folder}/VFINX.json', 'r') as file:\n",
    "    _vfinx = json.load(file)\n",
    "\n",
    "vfinx = pd.DataFrame.from_dict(_vfinx).copy()\n",
    "vfinx.index = pd.Series(pd.to_numeric(vfinx.index)).apply(lambda _date: datetime.fromtimestamp(_date * 1e-3))\n",
    "vfinx.sort_index(ascending=True, inplace=True)\n",
    "\n",
    "vfinx.index = vfinx.index.tz_localize(None).floor(freq='D')"
   ]
  },
  {
   "cell_type": "code",
   "execution_count": 7,
   "id": "22c02bd4",
   "metadata": {},
   "outputs": [
    {
     "data": {
      "text/html": [
       "<div>\n",
       "<style scoped>\n",
       "    .dataframe tbody tr th:only-of-type {\n",
       "        vertical-align: middle;\n",
       "    }\n",
       "\n",
       "    .dataframe tbody tr th {\n",
       "        vertical-align: top;\n",
       "    }\n",
       "\n",
       "    .dataframe thead th {\n",
       "        text-align: right;\n",
       "    }\n",
       "</style>\n",
       "<table border=\"1\" class=\"dataframe\">\n",
       "  <thead>\n",
       "    <tr style=\"text-align: right;\">\n",
       "      <th></th>\n",
       "      <th>Open</th>\n",
       "      <th>High</th>\n",
       "      <th>Low</th>\n",
       "      <th>Close</th>\n",
       "      <th>Volume</th>\n",
       "      <th>Dividends</th>\n",
       "      <th>Stock Splits</th>\n",
       "      <th>VIX_Close</th>\n",
       "    </tr>\n",
       "  </thead>\n",
       "  <tbody>\n",
       "    <tr>\n",
       "      <th>count</th>\n",
       "      <td>8833.000000</td>\n",
       "      <td>8833.000000</td>\n",
       "      <td>8833.000000</td>\n",
       "      <td>8833.000000</td>\n",
       "      <td>8833.0</td>\n",
       "      <td>8833.000000</td>\n",
       "      <td>8833.0</td>\n",
       "      <td>8833.000000</td>\n",
       "    </tr>\n",
       "    <tr>\n",
       "      <th>mean</th>\n",
       "      <td>91.410905</td>\n",
       "      <td>91.410905</td>\n",
       "      <td>91.410905</td>\n",
       "      <td>91.410905</td>\n",
       "      <td>0.0</td>\n",
       "      <td>0.008916</td>\n",
       "      <td>0.0</td>\n",
       "      <td>19.925365</td>\n",
       "    </tr>\n",
       "    <tr>\n",
       "      <th>std</th>\n",
       "      <td>74.364430</td>\n",
       "      <td>74.364430</td>\n",
       "      <td>74.364430</td>\n",
       "      <td>74.364430</td>\n",
       "      <td>0.0</td>\n",
       "      <td>0.081741</td>\n",
       "      <td>0.0</td>\n",
       "      <td>8.501164</td>\n",
       "    </tr>\n",
       "    <tr>\n",
       "      <th>min</th>\n",
       "      <td>9.693998</td>\n",
       "      <td>9.693998</td>\n",
       "      <td>9.693998</td>\n",
       "      <td>9.693998</td>\n",
       "      <td>0.0</td>\n",
       "      <td>0.000000</td>\n",
       "      <td>0.0</td>\n",
       "      <td>9.140000</td>\n",
       "    </tr>\n",
       "    <tr>\n",
       "      <th>25%</th>\n",
       "      <td>26.499744</td>\n",
       "      <td>26.499744</td>\n",
       "      <td>26.499744</td>\n",
       "      <td>26.499744</td>\n",
       "      <td>0.0</td>\n",
       "      <td>0.000000</td>\n",
       "      <td>0.0</td>\n",
       "      <td>14.090000</td>\n",
       "    </tr>\n",
       "    <tr>\n",
       "      <th>50%</th>\n",
       "      <td>77.715508</td>\n",
       "      <td>77.715508</td>\n",
       "      <td>77.715508</td>\n",
       "      <td>77.715508</td>\n",
       "      <td>0.0</td>\n",
       "      <td>0.000000</td>\n",
       "      <td>0.0</td>\n",
       "      <td>18.130000</td>\n",
       "    </tr>\n",
       "    <tr>\n",
       "      <th>75%</th>\n",
       "      <td>107.777855</td>\n",
       "      <td>107.777855</td>\n",
       "      <td>107.777855</td>\n",
       "      <td>107.777855</td>\n",
       "      <td>0.0</td>\n",
       "      <td>0.000000</td>\n",
       "      <td>0.0</td>\n",
       "      <td>23.250000</td>\n",
       "    </tr>\n",
       "    <tr>\n",
       "      <th>max</th>\n",
       "      <td>355.809998</td>\n",
       "      <td>355.809998</td>\n",
       "      <td>355.809998</td>\n",
       "      <td>355.809998</td>\n",
       "      <td>0.0</td>\n",
       "      <td>1.390000</td>\n",
       "      <td>0.0</td>\n",
       "      <td>150.190000</td>\n",
       "    </tr>\n",
       "  </tbody>\n",
       "</table>\n",
       "</div>"
      ],
      "text/plain": [
       "              Open         High          Low        Close  Volume  \\\n",
       "count  8833.000000  8833.000000  8833.000000  8833.000000  8833.0   \n",
       "mean     91.410905    91.410905    91.410905    91.410905     0.0   \n",
       "std      74.364430    74.364430    74.364430    74.364430     0.0   \n",
       "min       9.693998     9.693998     9.693998     9.693998     0.0   \n",
       "25%      26.499744    26.499744    26.499744    26.499744     0.0   \n",
       "50%      77.715508    77.715508    77.715508    77.715508     0.0   \n",
       "75%     107.777855   107.777855   107.777855   107.777855     0.0   \n",
       "max     355.809998   355.809998   355.809998   355.809998     0.0   \n",
       "\n",
       "         Dividends  Stock Splits    VIX_Close  \n",
       "count  8833.000000        8833.0  8833.000000  \n",
       "mean      0.008916           0.0    19.925365  \n",
       "std       0.081741           0.0     8.501164  \n",
       "min       0.000000           0.0     9.140000  \n",
       "25%       0.000000           0.0    14.090000  \n",
       "50%       0.000000           0.0    18.130000  \n",
       "75%       0.000000           0.0    23.250000  \n",
       "max       1.390000           0.0   150.190000  "
      ]
     },
     "execution_count": 7,
     "metadata": {},
     "output_type": "execute_result"
    }
   ],
   "source": [
    "vfinx.describe()"
   ]
  },
  {
   "cell_type": "code",
   "execution_count": 8,
   "id": "4eb89a09",
   "metadata": {},
   "outputs": [
    {
     "data": {
      "text/plain": [
       "0    8833\n",
       "Name: Volume, dtype: int64"
      ]
     },
     "execution_count": 8,
     "metadata": {},
     "output_type": "execute_result"
    }
   ],
   "source": [
    "vfinx['Volume'].value_counts()"
   ]
  },
  {
   "cell_type": "code",
   "execution_count": 9,
   "id": "5d2b7944",
   "metadata": {},
   "outputs": [
    {
     "data": {
      "text/plain": [
       "0.000    8692\n",
       "0.180      15\n",
       "0.220      12\n",
       "0.350       5\n",
       "0.300       5\n",
       "         ... \n",
       "0.520       1\n",
       "0.480       1\n",
       "0.490       1\n",
       "0.530       1\n",
       "1.311       1\n",
       "Name: Dividends, Length: 91, dtype: int64"
      ]
     },
     "execution_count": 9,
     "metadata": {},
     "output_type": "execute_result"
    }
   ],
   "source": [
    "vfinx['Dividends'].value_counts()"
   ]
  },
  {
   "cell_type": "code",
   "execution_count": 10,
   "id": "7b9e9424",
   "metadata": {},
   "outputs": [
    {
     "data": {
      "text/plain": [
       "0    8833\n",
       "Name: Stock Splits, dtype: int64"
      ]
     },
     "execution_count": 10,
     "metadata": {},
     "output_type": "execute_result"
    }
   ],
   "source": [
    "vfinx['Stock Splits'].value_counts()"
   ]
  },
  {
   "cell_type": "code",
   "execution_count": 11,
   "id": "f8072e34",
   "metadata": {
    "scrolled": false
   },
   "outputs": [
    {
     "data": {
      "image/png": "[encoded data removed]",
      "text/plain": [
       "<Figure size 576x360 with 2 Axes>"
      ]
     },
     "metadata": {
      "needs_background": "light"
     },
     "output_type": "display_data"
    },
    {
     "data": {
      "image/png": "[encoded data removed]",
      "text/plain": [
       "<Figure size 432x288 with 1 Axes>"
      ]
     },
     "metadata": {
      "needs_background": "light"
     },
     "output_type": "display_data"
    }
   ],
   "source": [
    "fig, ax1 = plt.subplots(figsize=(8, 5))\n",
    "ax2 = ax1.twinx()\n",
    "\n",
    "vfinx['Close'].plot(ax=ax1, label='VFINX close')\n",
    "vfinx['VIX_Close'].plot(ax=ax2, label='VIX close', color='tab:red')\n",
    "\n",
    "fig.legend()\n",
    "ax1.grid()\n",
    "# ax2.grid()\n",
    "fig.tight_layout()\n",
    "plt.show()\n",
    "\n",
    "vfinx['Dividends'].plot()\n",
    "plt.grid()\n",
    "plt.show()"
   ]
  },
  {
   "cell_type": "code",
   "execution_count": 12,
   "id": "755901fa",
   "metadata": {},
   "outputs": [
    {
     "data": {
      "text/html": [
       "<div>\n",
       "<style scoped>\n",
       "    .dataframe tbody tr th:only-of-type {\n",
       "        vertical-align: middle;\n",
       "    }\n",
       "\n",
       "    .dataframe tbody tr th {\n",
       "        vertical-align: top;\n",
       "    }\n",
       "\n",
       "    .dataframe thead th {\n",
       "        text-align: right;\n",
       "    }\n",
       "</style>\n",
       "<table border=\"1\" class=\"dataframe\">\n",
       "  <thead>\n",
       "    <tr style=\"text-align: right;\">\n",
       "      <th></th>\n",
       "      <th>Open</th>\n",
       "      <th>High</th>\n",
       "      <th>Low</th>\n",
       "      <th>Close</th>\n",
       "      <th>Volume</th>\n",
       "      <th>Dividends</th>\n",
       "      <th>Stock Splits</th>\n",
       "      <th>VIX_Close</th>\n",
       "    </tr>\n",
       "  </thead>\n",
       "  <tbody>\n",
       "    <tr>\n",
       "      <th>1986-01-02</th>\n",
       "      <td>9.969467</td>\n",
       "      <td>9.969467</td>\n",
       "      <td>9.969467</td>\n",
       "      <td>9.969467</td>\n",
       "      <td>0</td>\n",
       "      <td>0.0</td>\n",
       "      <td>0</td>\n",
       "      <td>18.07</td>\n",
       "    </tr>\n",
       "    <tr>\n",
       "      <th>1986-01-03</th>\n",
       "      <td>10.035052</td>\n",
       "      <td>10.035052</td>\n",
       "      <td>10.035052</td>\n",
       "      <td>10.035052</td>\n",
       "      <td>0</td>\n",
       "      <td>0.0</td>\n",
       "      <td>0</td>\n",
       "      <td>17.96</td>\n",
       "    </tr>\n",
       "    <tr>\n",
       "      <th>1986-01-06</th>\n",
       "      <td>10.030688</td>\n",
       "      <td>10.030688</td>\n",
       "      <td>10.030688</td>\n",
       "      <td>10.030688</td>\n",
       "      <td>0</td>\n",
       "      <td>0.0</td>\n",
       "      <td>0</td>\n",
       "      <td>17.05</td>\n",
       "    </tr>\n",
       "    <tr>\n",
       "      <th>1986-01-07</th>\n",
       "      <td>10.179354</td>\n",
       "      <td>10.179354</td>\n",
       "      <td>10.179354</td>\n",
       "      <td>10.179354</td>\n",
       "      <td>0</td>\n",
       "      <td>0.0</td>\n",
       "      <td>0</td>\n",
       "      <td>17.39</td>\n",
       "    </tr>\n",
       "    <tr>\n",
       "      <th>1986-01-08</th>\n",
       "      <td>9.899508</td>\n",
       "      <td>9.899508</td>\n",
       "      <td>9.899508</td>\n",
       "      <td>9.899508</td>\n",
       "      <td>0</td>\n",
       "      <td>0.0</td>\n",
       "      <td>0</td>\n",
       "      <td>19.97</td>\n",
       "    </tr>\n",
       "    <tr>\n",
       "      <th>...</th>\n",
       "      <td>...</td>\n",
       "      <td>...</td>\n",
       "      <td>...</td>\n",
       "      <td>...</td>\n",
       "      <td>...</td>\n",
       "      <td>...</td>\n",
       "      <td>...</td>\n",
       "      <td>...</td>\n",
       "    </tr>\n",
       "    <tr>\n",
       "      <th>2021-01-15</th>\n",
       "      <td>347.940002</td>\n",
       "      <td>347.940002</td>\n",
       "      <td>347.940002</td>\n",
       "      <td>347.940002</td>\n",
       "      <td>0</td>\n",
       "      <td>0.0</td>\n",
       "      <td>0</td>\n",
       "      <td>24.34</td>\n",
       "    </tr>\n",
       "    <tr>\n",
       "      <th>2021-01-19</th>\n",
       "      <td>350.779999</td>\n",
       "      <td>350.779999</td>\n",
       "      <td>350.779999</td>\n",
       "      <td>350.779999</td>\n",
       "      <td>0</td>\n",
       "      <td>0.0</td>\n",
       "      <td>0</td>\n",
       "      <td>23.24</td>\n",
       "    </tr>\n",
       "    <tr>\n",
       "      <th>2021-01-20</th>\n",
       "      <td>355.670013</td>\n",
       "      <td>355.670013</td>\n",
       "      <td>355.670013</td>\n",
       "      <td>355.670013</td>\n",
       "      <td>0</td>\n",
       "      <td>0.0</td>\n",
       "      <td>0</td>\n",
       "      <td>21.58</td>\n",
       "    </tr>\n",
       "    <tr>\n",
       "      <th>2021-01-21</th>\n",
       "      <td>355.809998</td>\n",
       "      <td>355.809998</td>\n",
       "      <td>355.809998</td>\n",
       "      <td>355.809998</td>\n",
       "      <td>0</td>\n",
       "      <td>0.0</td>\n",
       "      <td>0</td>\n",
       "      <td>21.32</td>\n",
       "    </tr>\n",
       "    <tr>\n",
       "      <th>2021-01-22</th>\n",
       "      <td>354.739990</td>\n",
       "      <td>354.739990</td>\n",
       "      <td>354.739990</td>\n",
       "      <td>354.739990</td>\n",
       "      <td>0</td>\n",
       "      <td>0.0</td>\n",
       "      <td>0</td>\n",
       "      <td>21.91</td>\n",
       "    </tr>\n",
       "  </tbody>\n",
       "</table>\n",
       "<p>8833 rows × 8 columns</p>\n",
       "</div>"
      ],
      "text/plain": [
       "                  Open        High         Low       Close  Volume  Dividends  \\\n",
       "1986-01-02    9.969467    9.969467    9.969467    9.969467       0        0.0   \n",
       "1986-01-03   10.035052   10.035052   10.035052   10.035052       0        0.0   \n",
       "1986-01-06   10.030688   10.030688   10.030688   10.030688       0        0.0   \n",
       "1986-01-07   10.179354   10.179354   10.179354   10.179354       0        0.0   \n",
       "1986-01-08    9.899508    9.899508    9.899508    9.899508       0        0.0   \n",
       "...                ...         ...         ...         ...     ...        ...   \n",
       "2021-01-15  347.940002  347.940002  347.940002  347.940002       0        0.0   \n",
       "2021-01-19  350.779999  350.779999  350.779999  350.779999       0        0.0   \n",
       "2021-01-20  355.670013  355.670013  355.670013  355.670013       0        0.0   \n",
       "2021-01-21  355.809998  355.809998  355.809998  355.809998       0        0.0   \n",
       "2021-01-22  354.739990  354.739990  354.739990  354.739990       0        0.0   \n",
       "\n",
       "            Stock Splits  VIX_Close  \n",
       "1986-01-02             0      18.07  \n",
       "1986-01-03             0      17.96  \n",
       "1986-01-06             0      17.05  \n",
       "1986-01-07             0      17.39  \n",
       "1986-01-08             0      19.97  \n",
       "...                  ...        ...  \n",
       "2021-01-15             0      24.34  \n",
       "2021-01-19             0      23.24  \n",
       "2021-01-20             0      21.58  \n",
       "2021-01-21             0      21.32  \n",
       "2021-01-22             0      21.91  \n",
       "\n",
       "[8833 rows x 8 columns]"
      ]
     },
     "execution_count": 12,
     "metadata": {},
     "output_type": "execute_result"
    }
   ],
   "source": [
    "vfinx"
   ]
  },
  {
   "cell_type": "code",
   "execution_count": 13,
   "id": "235de07b",
   "metadata": {},
   "outputs": [],
   "source": [
    "dates = vfinx.index\n",
    "securities = ['VFINX']"
   ]
  },
  {
   "cell_type": "markdown",
   "id": "2a2b7901",
   "metadata": {},
   "source": [
    "## 10Y US Notes"
   ]
  },
  {
   "cell_type": "code",
   "execution_count": 14,
   "id": "0a33f85a",
   "metadata": {},
   "outputs": [],
   "source": [
    "ust = pd.read_csv('files/ust_10y_yields_hist.csv')\n",
    "ust['Date'] = pd.to_datetime(ust['Date'])\n",
    "ust.set_index('Date', inplace=True)\n",
    "ust.sort_index(ascending=True, inplace=True)"
   ]
  },
  {
   "cell_type": "code",
   "execution_count": 15,
   "id": "222c1147",
   "metadata": {},
   "outputs": [
    {
     "data": {
      "text/plain": [
       "count    9061.000000\n",
       "mean        4.727160\n",
       "std         2.321428\n",
       "min         0.499000\n",
       "25%         2.624000\n",
       "50%         4.564000\n",
       "75%         6.537000\n",
       "max        10.230000\n",
       "Name: Close, dtype: float64"
      ]
     },
     "execution_count": 15,
     "metadata": {},
     "output_type": "execute_result"
    }
   ],
   "source": [
    "ust['Close'].describe()"
   ]
  },
  {
   "cell_type": "code",
   "execution_count": 16,
   "id": "5e5bec58",
   "metadata": {},
   "outputs": [
    {
     "data": {
      "image/png": "[encoded data removed]",
      "text/plain": [
       "<Figure size 432x288 with 1 Axes>"
      ]
     },
     "metadata": {
      "needs_background": "light"
     },
     "output_type": "display_data"
    }
   ],
   "source": [
    "ust['Close'].plot()\n",
    "\n",
    "plt.grid()\n",
    "plt.show()"
   ]
  },
  {
   "cell_type": "markdown",
   "id": "292843a7",
   "metadata": {},
   "source": [
    "# Countering VIX strategy"
   ]
  },
  {
   "cell_type": "code",
   "execution_count": null,
   "id": "e691924c",
   "metadata": {},
   "outputs": [],
   "source": []
  },
  {
   "cell_type": "markdown",
   "id": "bf2f081e",
   "metadata": {},
   "source": [
    "# Buy & hodl strategy"
   ]
  },
  {
   "cell_type": "markdown",
   "id": "36e4d6c4",
   "metadata": {},
   "source": [
    "## Running strategy"
   ]
  },
  {
   "cell_type": "code",
   "execution_count": 17,
   "id": "42c3335c",
   "metadata": {},
   "outputs": [],
   "source": [
    "# logging.basicConfig(level=logging.DEBUG)"
   ]
  },
  {
   "cell_type": "code",
   "execution_count": 18,
   "id": "e9f87440",
   "metadata": {
    "scrolled": true
   },
   "outputs": [],
   "source": [
    "quotes = vfinx[['Close']].copy()\n",
    "quotes.columns = securities\n",
    "\n",
    "ini_positions = None\n",
    "max_loan = 0\n",
    "\n",
    "pb = PortfolioBacktest(securities=securities,\n",
    "                       dates=dates,\n",
    "                       quotes=quotes,\n",
    "                       capital=capital,\n",
    "                       ini_positions=ini_positions,\n",
    "                       max_loan=max_loan)"
   ]
  },
  {
   "cell_type": "code",
   "execution_count": 19,
   "id": "de52a515",
   "metadata": {},
   "outputs": [
    {
     "name": "stdout",
     "output_type": "stream",
     "text": [
      "CPU times: user 17.6 s, sys: 110 ms, total: 17.7 s\n",
      "Wall time: 18.4 s\n"
     ]
    }
   ],
   "source": [
    "%%time\n",
    "\n",
    "pb.run_strategy()"
   ]
  },
  {
   "cell_type": "code",
   "execution_count": 20,
   "id": "45df41a7",
   "metadata": {
    "scrolled": true
   },
   "outputs": [
    {
     "data": {
      "text/html": [
       "<div>\n",
       "<style scoped>\n",
       "    .dataframe tbody tr th:only-of-type {\n",
       "        vertical-align: middle;\n",
       "    }\n",
       "\n",
       "    .dataframe tbody tr th {\n",
       "        vertical-align: top;\n",
       "    }\n",
       "\n",
       "    .dataframe thead tr th {\n",
       "        text-align: left;\n",
       "    }\n",
       "</style>\n",
       "<table border=\"1\" class=\"dataframe\">\n",
       "  <thead>\n",
       "    <tr>\n",
       "      <th>attr</th>\n",
       "      <th colspan=\"2\" halign=\"left\">price</th>\n",
       "      <th colspan=\"2\" halign=\"left\">weight</th>\n",
       "      <th colspan=\"2\" halign=\"left\">#</th>\n",
       "      <th colspan=\"2\" halign=\"left\">value</th>\n",
       "      <th colspan=\"2\" halign=\"left\">rebalance</th>\n",
       "      <th colspan=\"2\" halign=\"left\">rebalance price</th>\n",
       "      <th>nav</th>\n",
       "    </tr>\n",
       "    <tr>\n",
       "      <th>sec</th>\n",
       "      <th>VFINX</th>\n",
       "      <th>cash</th>\n",
       "      <th>VFINX</th>\n",
       "      <th>cash</th>\n",
       "      <th>VFINX</th>\n",
       "      <th>cash</th>\n",
       "      <th>VFINX</th>\n",
       "      <th>cash</th>\n",
       "      <th>VFINX</th>\n",
       "      <th>cash</th>\n",
       "      <th>VFINX</th>\n",
       "      <th>cash</th>\n",
       "      <th></th>\n",
       "    </tr>\n",
       "  </thead>\n",
       "  <tbody>\n",
       "    <tr>\n",
       "      <th>1986-01-02</th>\n",
       "      <td>9.969467</td>\n",
       "      <td>1</td>\n",
       "      <td>0.0</td>\n",
       "      <td>1.000000e+00</td>\n",
       "      <td>0.000000</td>\n",
       "      <td>1.000000e+06</td>\n",
       "      <td>0.000000e+00</td>\n",
       "      <td>1.000000e+06</td>\n",
       "      <td>NaN</td>\n",
       "      <td>NaN</td>\n",
       "      <td>NaN</td>\n",
       "      <td>1</td>\n",
       "      <td>1.000000e+06</td>\n",
       "    </tr>\n",
       "    <tr>\n",
       "      <th>1986-01-03</th>\n",
       "      <td>10.035052</td>\n",
       "      <td>1</td>\n",
       "      <td>1.0</td>\n",
       "      <td>1.156545e-16</td>\n",
       "      <td>100306.263478</td>\n",
       "      <td>1.164153e-10</td>\n",
       "      <td>1.006579e+06</td>\n",
       "      <td>1.164153e-10</td>\n",
       "      <td>100306.263478</td>\n",
       "      <td>-1000000.0</td>\n",
       "      <td>9.969467</td>\n",
       "      <td>1</td>\n",
       "      <td>1.006579e+06</td>\n",
       "    </tr>\n",
       "    <tr>\n",
       "      <th>1986-01-06</th>\n",
       "      <td>10.030688</td>\n",
       "      <td>1</td>\n",
       "      <td>1.0</td>\n",
       "      <td>1.157048e-16</td>\n",
       "      <td>100306.263478</td>\n",
       "      <td>1.164153e-10</td>\n",
       "      <td>1.006141e+06</td>\n",
       "      <td>1.164153e-10</td>\n",
       "      <td>NaN</td>\n",
       "      <td>NaN</td>\n",
       "      <td>NaN</td>\n",
       "      <td>1</td>\n",
       "      <td>1.006141e+06</td>\n",
       "    </tr>\n",
       "    <tr>\n",
       "      <th>1986-01-07</th>\n",
       "      <td>10.179354</td>\n",
       "      <td>1</td>\n",
       "      <td>1.0</td>\n",
       "      <td>1.140150e-16</td>\n",
       "      <td>100306.263478</td>\n",
       "      <td>1.164153e-10</td>\n",
       "      <td>1.021053e+06</td>\n",
       "      <td>1.164153e-10</td>\n",
       "      <td>NaN</td>\n",
       "      <td>NaN</td>\n",
       "      <td>NaN</td>\n",
       "      <td>1</td>\n",
       "      <td>1.021053e+06</td>\n",
       "    </tr>\n",
       "    <tr>\n",
       "      <th>1986-01-08</th>\n",
       "      <td>9.899508</td>\n",
       "      <td>1</td>\n",
       "      <td>1.0</td>\n",
       "      <td>1.172380e-16</td>\n",
       "      <td>100306.263478</td>\n",
       "      <td>1.164153e-10</td>\n",
       "      <td>9.929826e+05</td>\n",
       "      <td>1.164153e-10</td>\n",
       "      <td>NaN</td>\n",
       "      <td>NaN</td>\n",
       "      <td>NaN</td>\n",
       "      <td>1</td>\n",
       "      <td>9.929826e+05</td>\n",
       "    </tr>\n",
       "    <tr>\n",
       "      <th>...</th>\n",
       "      <td>...</td>\n",
       "      <td>...</td>\n",
       "      <td>...</td>\n",
       "      <td>...</td>\n",
       "      <td>...</td>\n",
       "      <td>...</td>\n",
       "      <td>...</td>\n",
       "      <td>...</td>\n",
       "      <td>...</td>\n",
       "      <td>...</td>\n",
       "      <td>...</td>\n",
       "      <td>...</td>\n",
       "      <td>...</td>\n",
       "    </tr>\n",
       "    <tr>\n",
       "      <th>2021-01-15</th>\n",
       "      <td>347.940002</td>\n",
       "      <td>1</td>\n",
       "      <td>1.0</td>\n",
       "      <td>3.335629e-18</td>\n",
       "      <td>100306.263478</td>\n",
       "      <td>1.164153e-10</td>\n",
       "      <td>3.490056e+07</td>\n",
       "      <td>1.164153e-10</td>\n",
       "      <td>NaN</td>\n",
       "      <td>NaN</td>\n",
       "      <td>NaN</td>\n",
       "      <td>1</td>\n",
       "      <td>3.490056e+07</td>\n",
       "    </tr>\n",
       "    <tr>\n",
       "      <th>2021-01-19</th>\n",
       "      <td>350.779999</td>\n",
       "      <td>1</td>\n",
       "      <td>1.0</td>\n",
       "      <td>3.308623e-18</td>\n",
       "      <td>100306.263478</td>\n",
       "      <td>1.164153e-10</td>\n",
       "      <td>3.518543e+07</td>\n",
       "      <td>1.164153e-10</td>\n",
       "      <td>NaN</td>\n",
       "      <td>NaN</td>\n",
       "      <td>NaN</td>\n",
       "      <td>1</td>\n",
       "      <td>3.518543e+07</td>\n",
       "    </tr>\n",
       "    <tr>\n",
       "      <th>2021-01-20</th>\n",
       "      <td>355.670013</td>\n",
       "      <td>1</td>\n",
       "      <td>1.0</td>\n",
       "      <td>3.263133e-18</td>\n",
       "      <td>100306.263478</td>\n",
       "      <td>1.164153e-10</td>\n",
       "      <td>3.567593e+07</td>\n",
       "      <td>1.164153e-10</td>\n",
       "      <td>NaN</td>\n",
       "      <td>NaN</td>\n",
       "      <td>NaN</td>\n",
       "      <td>1</td>\n",
       "      <td>3.567593e+07</td>\n",
       "    </tr>\n",
       "    <tr>\n",
       "      <th>2021-01-21</th>\n",
       "      <td>355.809998</td>\n",
       "      <td>1</td>\n",
       "      <td>1.0</td>\n",
       "      <td>3.261850e-18</td>\n",
       "      <td>100306.263478</td>\n",
       "      <td>1.164153e-10</td>\n",
       "      <td>3.568997e+07</td>\n",
       "      <td>1.164153e-10</td>\n",
       "      <td>NaN</td>\n",
       "      <td>NaN</td>\n",
       "      <td>NaN</td>\n",
       "      <td>1</td>\n",
       "      <td>3.568997e+07</td>\n",
       "    </tr>\n",
       "    <tr>\n",
       "      <th>2021-01-22</th>\n",
       "      <td>354.739990</td>\n",
       "      <td>1</td>\n",
       "      <td>1.0</td>\n",
       "      <td>3.271688e-18</td>\n",
       "      <td>100306.263478</td>\n",
       "      <td>1.164153e-10</td>\n",
       "      <td>3.558264e+07</td>\n",
       "      <td>1.164153e-10</td>\n",
       "      <td>NaN</td>\n",
       "      <td>NaN</td>\n",
       "      <td>NaN</td>\n",
       "      <td>1</td>\n",
       "      <td>3.558264e+07</td>\n",
       "    </tr>\n",
       "  </tbody>\n",
       "</table>\n",
       "<p>8833 rows × 13 columns</p>\n",
       "</div>"
      ],
      "text/plain": [
       "attr             price      weight                            #                \\\n",
       "sec              VFINX cash  VFINX          cash          VFINX          cash   \n",
       "1986-01-02    9.969467    1    0.0  1.000000e+00       0.000000  1.000000e+06   \n",
       "1986-01-03   10.035052    1    1.0  1.156545e-16  100306.263478  1.164153e-10   \n",
       "1986-01-06   10.030688    1    1.0  1.157048e-16  100306.263478  1.164153e-10   \n",
       "1986-01-07   10.179354    1    1.0  1.140150e-16  100306.263478  1.164153e-10   \n",
       "1986-01-08    9.899508    1    1.0  1.172380e-16  100306.263478  1.164153e-10   \n",
       "...                ...  ...    ...           ...            ...           ...   \n",
       "2021-01-15  347.940002    1    1.0  3.335629e-18  100306.263478  1.164153e-10   \n",
       "2021-01-19  350.779999    1    1.0  3.308623e-18  100306.263478  1.164153e-10   \n",
       "2021-01-20  355.670013    1    1.0  3.263133e-18  100306.263478  1.164153e-10   \n",
       "2021-01-21  355.809998    1    1.0  3.261850e-18  100306.263478  1.164153e-10   \n",
       "2021-01-22  354.739990    1    1.0  3.271688e-18  100306.263478  1.164153e-10   \n",
       "\n",
       "attr               value                    rebalance             \\\n",
       "sec                VFINX          cash          VFINX       cash   \n",
       "1986-01-02  0.000000e+00  1.000000e+06            NaN        NaN   \n",
       "1986-01-03  1.006579e+06  1.164153e-10  100306.263478 -1000000.0   \n",
       "1986-01-06  1.006141e+06  1.164153e-10            NaN        NaN   \n",
       "1986-01-07  1.021053e+06  1.164153e-10            NaN        NaN   \n",
       "1986-01-08  9.929826e+05  1.164153e-10            NaN        NaN   \n",
       "...                  ...           ...            ...        ...   \n",
       "2021-01-15  3.490056e+07  1.164153e-10            NaN        NaN   \n",
       "2021-01-19  3.518543e+07  1.164153e-10            NaN        NaN   \n",
       "2021-01-20  3.567593e+07  1.164153e-10            NaN        NaN   \n",
       "2021-01-21  3.568997e+07  1.164153e-10            NaN        NaN   \n",
       "2021-01-22  3.558264e+07  1.164153e-10            NaN        NaN   \n",
       "\n",
       "attr       rebalance price                nav  \n",
       "sec                  VFINX cash                \n",
       "1986-01-02             NaN    1  1.000000e+06  \n",
       "1986-01-03        9.969467    1  1.006579e+06  \n",
       "1986-01-06             NaN    1  1.006141e+06  \n",
       "1986-01-07             NaN    1  1.021053e+06  \n",
       "1986-01-08             NaN    1  9.929826e+05  \n",
       "...                    ...  ...           ...  \n",
       "2021-01-15             NaN    1  3.490056e+07  \n",
       "2021-01-19             NaN    1  3.518543e+07  \n",
       "2021-01-20             NaN    1  3.567593e+07  \n",
       "2021-01-21             NaN    1  3.568997e+07  \n",
       "2021-01-22             NaN    1  3.558264e+07  \n",
       "\n",
       "[8833 rows x 13 columns]"
      ]
     },
     "execution_count": 20,
     "metadata": {},
     "output_type": "execute_result"
    }
   ],
   "source": [
    "pb.get_combined_df()"
   ]
  },
  {
   "cell_type": "markdown",
   "id": "6f076f76",
   "metadata": {},
   "source": [
    "## Evaluating aggregate portfolio results"
   ]
  },
  {
   "cell_type": "code",
   "execution_count": 21,
   "id": "88693a1f",
   "metadata": {},
   "outputs": [],
   "source": [
    "annualization_factor = 360\n",
    "\n",
    "portf_res = perform_backtest(pb.nav, ust['Close'] / 100, risk_free_annualized=True,\n",
    "                             annualization_factor=annualization_factor).copy()"
   ]
  },
  {
   "cell_type": "code",
   "execution_count": 22,
   "id": "31297d16",
   "metadata": {},
   "outputs": [
    {
     "data": {
      "text/plain": [
       "0.10744225828819354"
      ]
     },
     "execution_count": 22,
     "metadata": {},
     "output_type": "execute_result"
    }
   ],
   "source": [
    "(portf_res['total return'].iloc[-1] + 1) ** (1 / 35) - 1"
   ]
  },
  {
   "cell_type": "code",
   "execution_count": 23,
   "id": "a38bf648",
   "metadata": {},
   "outputs": [
    {
     "data": {
      "image/png": "[encoded data removed]",
      "text/plain": [
       "<Figure size 432x288 with 1 Axes>"
      ]
     },
     "metadata": {
      "needs_background": "light"
     },
     "output_type": "display_data"
    }
   ],
   "source": [
    "_cols = ['daily return', 'risk free rate', 'excess return daily']\n",
    "_data = portf_res[_cols] * 100\n",
    "_data.plot()\n",
    "\n",
    "plt.grid()\n",
    "plt.show()"
   ]
  },
  {
   "cell_type": "code",
   "execution_count": 24,
   "id": "d29cc5e8",
   "metadata": {},
   "outputs": [
    {
     "data": {
      "image/png": "[encoded data removed]",
      "text/plain": [
       "<Figure size 432x288 with 1 Axes>"
      ]
     },
     "metadata": {
      "needs_background": "light"
     },
     "output_type": "display_data"
    }
   ],
   "source": [
    "_cols = ['total PnL']\n",
    "_data = portf_res[_cols]\n",
    "_data.plot()\n",
    "\n",
    "plt.grid()\n",
    "plt.show()"
   ]
  },
  {
   "cell_type": "markdown",
   "id": "a35e8543",
   "metadata": {},
   "source": [
    "### Sharpe"
   ]
  },
  {
   "cell_type": "code",
   "execution_count": 25,
   "id": "4f92589f",
   "metadata": {},
   "outputs": [
    {
     "data": {
      "text/plain": [
       "0.1828539744781804"
      ]
     },
     "execution_count": 25,
     "metadata": {},
     "output_type": "execute_result"
    }
   ],
   "source": [
    "calc_sharpe(portf_res['excess return'].mean(), portf_res['excess return'].std(), multiply_by=252 ** .5)"
   ]
  },
  {
   "cell_type": "code",
   "execution_count": 26,
   "id": "6cc784b1",
   "metadata": {},
   "outputs": [
    {
     "data": {
      "text/plain": [
       "0.4585805403302315"
      ]
     },
     "execution_count": 26,
     "metadata": {},
     "output_type": "execute_result"
    }
   ],
   "source": [
    "calc_sharpe(portf_res['excess return daily'].mean(), portf_res['excess return daily'].std(), multiply_by=252 ** .5)"
   ]
  }
 ],
 "metadata": {
  "kernelspec": {
   "display_name": "Python 3 (ipykernel)",
   "language": "python",
   "name": "python3"
  },
  "language_info": {
   "codemirror_mode": {
    "name": "ipython",
    "version": 3
   },
   "file_extension": ".py",
   "mimetype": "text/x-python",
   "name": "python",
   "nbconvert_exporter": "python",
   "pygments_lexer": "ipython3",
   "version": "3.9.7"
  }
 },
 "nbformat": 4,
 "nbformat_minor": 5
}
