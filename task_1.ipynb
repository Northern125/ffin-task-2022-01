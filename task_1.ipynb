{
 "cells": [
  {
   "cell_type": "code",
   "execution_count": 1,
   "id": "b34fee8e",
   "metadata": {},
   "outputs": [],
   "source": [
    "import json\n",
    "import pandas as pd\n",
    "import numpy as np\n",
    "from datetime import datetime\n",
    "import matplotlib.pyplot as plt\n",
    "import logging"
   ]
  },
  {
   "cell_type": "code",
   "execution_count": 2,
   "id": "7a9a969b",
   "metadata": {},
   "outputs": [],
   "source": [
    "from pandas import IndexSlice as idx"
   ]
  },
  {
   "cell_type": "code",
   "execution_count": 3,
   "id": "7cc0f538",
   "metadata": {},
   "outputs": [],
   "source": [
    "from backtesting import perform_backtest, PortfolioBacktest\n",
    "from sharpe import calc_sharpe\n",
    "\n",
    "from vfinx_vs_vix_strategy import VIXCounteringStrategyBacktest"
   ]
  },
  {
   "cell_type": "code",
   "execution_count": 4,
   "id": "fe0ad716",
   "metadata": {},
   "outputs": [],
   "source": [
    "source_folder = 'files'"
   ]
  },
  {
   "cell_type": "markdown",
   "id": "ce6dac8e",
   "metadata": {},
   "source": [
    "# Constants"
   ]
  },
  {
   "cell_type": "code",
   "execution_count": 5,
   "id": "f4d381bc",
   "metadata": {},
   "outputs": [],
   "source": [
    "capital = 1e6\n",
    "lower_freq = 5"
   ]
  },
  {
   "cell_type": "markdown",
   "id": "2a3996e7",
   "metadata": {},
   "source": [
    "# Reading data"
   ]
  },
  {
   "cell_type": "markdown",
   "id": "1d744492",
   "metadata": {},
   "source": [
    "## VFINX"
   ]
  },
  {
   "cell_type": "code",
   "execution_count": 6,
   "id": "17cac578",
   "metadata": {},
   "outputs": [],
   "source": [
    "with open(f'{source_folder}/VFINX.json', 'r') as file:\n",
    "    _vfinx = json.load(file)\n",
    "\n",
    "vfinx = pd.DataFrame.from_dict(_vfinx).copy()\n",
    "vfinx.index = pd.Series(pd.to_numeric(vfinx.index)).apply(lambda _date: datetime.fromtimestamp(_date * 1e-3))\n",
    "vfinx.sort_index(ascending=True, inplace=True)\n",
    "\n",
    "vfinx.index = vfinx.index.tz_localize(None).floor(freq='D')\n",
    "\n",
    "vfinx.sort_index(ascending=True, inplace=True)"
   ]
  },
  {
   "cell_type": "code",
   "execution_count": 7,
   "id": "3049845a",
   "metadata": {},
   "outputs": [
    {
     "data": {
      "text/html": [
       "<div>\n",
       "<style scoped>\n",
       "    .dataframe tbody tr th:only-of-type {\n",
       "        vertical-align: middle;\n",
       "    }\n",
       "\n",
       "    .dataframe tbody tr th {\n",
       "        vertical-align: top;\n",
       "    }\n",
       "\n",
       "    .dataframe thead th {\n",
       "        text-align: right;\n",
       "    }\n",
       "</style>\n",
       "<table border=\"1\" class=\"dataframe\">\n",
       "  <thead>\n",
       "    <tr style=\"text-align: right;\">\n",
       "      <th></th>\n",
       "      <th>Open</th>\n",
       "      <th>High</th>\n",
       "      <th>Low</th>\n",
       "      <th>Close</th>\n",
       "      <th>Volume</th>\n",
       "      <th>Dividends</th>\n",
       "      <th>Stock Splits</th>\n",
       "      <th>VIX_Close</th>\n",
       "    </tr>\n",
       "  </thead>\n",
       "  <tbody>\n",
       "    <tr>\n",
       "      <th>count</th>\n",
       "      <td>8833.000000</td>\n",
       "      <td>8833.000000</td>\n",
       "      <td>8833.000000</td>\n",
       "      <td>8833.000000</td>\n",
       "      <td>8833.0</td>\n",
       "      <td>8833.000000</td>\n",
       "      <td>8833.0</td>\n",
       "      <td>8833.000000</td>\n",
       "    </tr>\n",
       "    <tr>\n",
       "      <th>mean</th>\n",
       "      <td>91.410905</td>\n",
       "      <td>91.410905</td>\n",
       "      <td>91.410905</td>\n",
       "      <td>91.410905</td>\n",
       "      <td>0.0</td>\n",
       "      <td>0.008916</td>\n",
       "      <td>0.0</td>\n",
       "      <td>19.925365</td>\n",
       "    </tr>\n",
       "    <tr>\n",
       "      <th>std</th>\n",
       "      <td>74.364430</td>\n",
       "      <td>74.364430</td>\n",
       "      <td>74.364430</td>\n",
       "      <td>74.364430</td>\n",
       "      <td>0.0</td>\n",
       "      <td>0.081741</td>\n",
       "      <td>0.0</td>\n",
       "      <td>8.501164</td>\n",
       "    </tr>\n",
       "    <tr>\n",
       "      <th>min</th>\n",
       "      <td>9.693998</td>\n",
       "      <td>9.693998</td>\n",
       "      <td>9.693998</td>\n",
       "      <td>9.693998</td>\n",
       "      <td>0.0</td>\n",
       "      <td>0.000000</td>\n",
       "      <td>0.0</td>\n",
       "      <td>9.140000</td>\n",
       "    </tr>\n",
       "    <tr>\n",
       "      <th>25%</th>\n",
       "      <td>26.499744</td>\n",
       "      <td>26.499744</td>\n",
       "      <td>26.499744</td>\n",
       "      <td>26.499744</td>\n",
       "      <td>0.0</td>\n",
       "      <td>0.000000</td>\n",
       "      <td>0.0</td>\n",
       "      <td>14.090000</td>\n",
       "    </tr>\n",
       "    <tr>\n",
       "      <th>50%</th>\n",
       "      <td>77.715508</td>\n",
       "      <td>77.715508</td>\n",
       "      <td>77.715508</td>\n",
       "      <td>77.715508</td>\n",
       "      <td>0.0</td>\n",
       "      <td>0.000000</td>\n",
       "      <td>0.0</td>\n",
       "      <td>18.130000</td>\n",
       "    </tr>\n",
       "    <tr>\n",
       "      <th>75%</th>\n",
       "      <td>107.777855</td>\n",
       "      <td>107.777855</td>\n",
       "      <td>107.777855</td>\n",
       "      <td>107.777855</td>\n",
       "      <td>0.0</td>\n",
       "      <td>0.000000</td>\n",
       "      <td>0.0</td>\n",
       "      <td>23.250000</td>\n",
       "    </tr>\n",
       "    <tr>\n",
       "      <th>max</th>\n",
       "      <td>355.809998</td>\n",
       "      <td>355.809998</td>\n",
       "      <td>355.809998</td>\n",
       "      <td>355.809998</td>\n",
       "      <td>0.0</td>\n",
       "      <td>1.390000</td>\n",
       "      <td>0.0</td>\n",
       "      <td>150.190000</td>\n",
       "    </tr>\n",
       "  </tbody>\n",
       "</table>\n",
       "</div>"
      ],
      "text/plain": [
       "              Open         High          Low        Close  Volume  \\\n",
       "count  8833.000000  8833.000000  8833.000000  8833.000000  8833.0   \n",
       "mean     91.410905    91.410905    91.410905    91.410905     0.0   \n",
       "std      74.364430    74.364430    74.364430    74.364430     0.0   \n",
       "min       9.693998     9.693998     9.693998     9.693998     0.0   \n",
       "25%      26.499744    26.499744    26.499744    26.499744     0.0   \n",
       "50%      77.715508    77.715508    77.715508    77.715508     0.0   \n",
       "75%     107.777855   107.777855   107.777855   107.777855     0.0   \n",
       "max     355.809998   355.809998   355.809998   355.809998     0.0   \n",
       "\n",
       "         Dividends  Stock Splits    VIX_Close  \n",
       "count  8833.000000        8833.0  8833.000000  \n",
       "mean      0.008916           0.0    19.925365  \n",
       "std       0.081741           0.0     8.501164  \n",
       "min       0.000000           0.0     9.140000  \n",
       "25%       0.000000           0.0    14.090000  \n",
       "50%       0.000000           0.0    18.130000  \n",
       "75%       0.000000           0.0    23.250000  \n",
       "max       1.390000           0.0   150.190000  "
      ]
     },
     "execution_count": 7,
     "metadata": {},
     "output_type": "execute_result"
    }
   ],
   "source": [
    "vfinx.describe()"
   ]
  },
  {
   "cell_type": "code",
   "execution_count": 8,
   "id": "bbaecb59",
   "metadata": {},
   "outputs": [
    {
     "data": {
      "text/plain": [
       "0    8833\n",
       "Name: Volume, dtype: int64"
      ]
     },
     "execution_count": 8,
     "metadata": {},
     "output_type": "execute_result"
    }
   ],
   "source": [
    "vfinx['Volume'].value_counts()"
   ]
  },
  {
   "cell_type": "code",
   "execution_count": 9,
   "id": "01c03524",
   "metadata": {},
   "outputs": [
    {
     "data": {
      "text/plain": [
       "0.000    8692\n",
       "0.180      15\n",
       "0.220      12\n",
       "0.350       5\n",
       "0.300       5\n",
       "         ... \n",
       "0.520       1\n",
       "0.480       1\n",
       "0.490       1\n",
       "0.530       1\n",
       "1.311       1\n",
       "Name: Dividends, Length: 91, dtype: int64"
      ]
     },
     "execution_count": 9,
     "metadata": {},
     "output_type": "execute_result"
    }
   ],
   "source": [
    "vfinx['Dividends'].value_counts()"
   ]
  },
  {
   "cell_type": "code",
   "execution_count": 10,
   "id": "c00505c5",
   "metadata": {},
   "outputs": [
    {
     "data": {
      "text/plain": [
       "0    8833\n",
       "Name: Stock Splits, dtype: int64"
      ]
     },
     "execution_count": 10,
     "metadata": {},
     "output_type": "execute_result"
    }
   ],
   "source": [
    "vfinx['Stock Splits'].value_counts()"
   ]
  },
  {
   "cell_type": "code",
   "execution_count": 11,
   "id": "a27206fe",
   "metadata": {
    "scrolled": false
   },
   "outputs": [
    {
     "data": {
      "image/png": "[encoded data removed]",
      "text/plain": [
       "<Figure size 576x360 with 2 Axes>"
      ]
     },
     "metadata": {
      "needs_background": "light"
     },
     "output_type": "display_data"
    },
    {
     "data": {
      "image/png": "[encoded data removed]",
      "text/plain": [
       "<Figure size 432x288 with 1 Axes>"
      ]
     },
     "metadata": {
      "needs_background": "light"
     },
     "output_type": "display_data"
    }
   ],
   "source": [
    "fig, ax1 = plt.subplots(figsize=(8, 5))\n",
    "ax2 = ax1.twinx()\n",
    "\n",
    "vfinx['Close'].plot(ax=ax1, label='VFINX close')\n",
    "vfinx['VIX_Close'].plot(ax=ax2, label='VIX close', color='tab:red')\n",
    "\n",
    "fig.legend()\n",
    "ax1.grid()\n",
    "# ax2.grid()\n",
    "fig.tight_layout()\n",
    "plt.show()\n",
    "\n",
    "vfinx['Dividends'].plot()\n",
    "plt.grid()\n",
    "plt.show()"
   ]
  },
  {
   "cell_type": "code",
   "execution_count": 12,
   "id": "72a2a83f",
   "metadata": {},
   "outputs": [
    {
     "data": {
      "text/html": [
       "<div>\n",
       "<style scoped>\n",
       "    .dataframe tbody tr th:only-of-type {\n",
       "        vertical-align: middle;\n",
       "    }\n",
       "\n",
       "    .dataframe tbody tr th {\n",
       "        vertical-align: top;\n",
       "    }\n",
       "\n",
       "    .dataframe thead th {\n",
       "        text-align: right;\n",
       "    }\n",
       "</style>\n",
       "<table border=\"1\" class=\"dataframe\">\n",
       "  <thead>\n",
       "    <tr style=\"text-align: right;\">\n",
       "      <th></th>\n",
       "      <th>Open</th>\n",
       "      <th>High</th>\n",
       "      <th>Low</th>\n",
       "      <th>Close</th>\n",
       "      <th>Volume</th>\n",
       "      <th>Dividends</th>\n",
       "      <th>Stock Splits</th>\n",
       "      <th>VIX_Close</th>\n",
       "    </tr>\n",
       "  </thead>\n",
       "  <tbody>\n",
       "    <tr>\n",
       "      <th>1986-01-02</th>\n",
       "      <td>9.969467</td>\n",
       "      <td>9.969467</td>\n",
       "      <td>9.969467</td>\n",
       "      <td>9.969467</td>\n",
       "      <td>0</td>\n",
       "      <td>0.0</td>\n",
       "      <td>0</td>\n",
       "      <td>18.07</td>\n",
       "    </tr>\n",
       "    <tr>\n",
       "      <th>1986-01-03</th>\n",
       "      <td>10.035052</td>\n",
       "      <td>10.035052</td>\n",
       "      <td>10.035052</td>\n",
       "      <td>10.035052</td>\n",
       "      <td>0</td>\n",
       "      <td>0.0</td>\n",
       "      <td>0</td>\n",
       "      <td>17.96</td>\n",
       "    </tr>\n",
       "    <tr>\n",
       "      <th>1986-01-06</th>\n",
       "      <td>10.030688</td>\n",
       "      <td>10.030688</td>\n",
       "      <td>10.030688</td>\n",
       "      <td>10.030688</td>\n",
       "      <td>0</td>\n",
       "      <td>0.0</td>\n",
       "      <td>0</td>\n",
       "      <td>17.05</td>\n",
       "    </tr>\n",
       "    <tr>\n",
       "      <th>1986-01-07</th>\n",
       "      <td>10.179354</td>\n",
       "      <td>10.179354</td>\n",
       "      <td>10.179354</td>\n",
       "      <td>10.179354</td>\n",
       "      <td>0</td>\n",
       "      <td>0.0</td>\n",
       "      <td>0</td>\n",
       "      <td>17.39</td>\n",
       "    </tr>\n",
       "    <tr>\n",
       "      <th>1986-01-08</th>\n",
       "      <td>9.899508</td>\n",
       "      <td>9.899508</td>\n",
       "      <td>9.899508</td>\n",
       "      <td>9.899508</td>\n",
       "      <td>0</td>\n",
       "      <td>0.0</td>\n",
       "      <td>0</td>\n",
       "      <td>19.97</td>\n",
       "    </tr>\n",
       "    <tr>\n",
       "      <th>...</th>\n",
       "      <td>...</td>\n",
       "      <td>...</td>\n",
       "      <td>...</td>\n",
       "      <td>...</td>\n",
       "      <td>...</td>\n",
       "      <td>...</td>\n",
       "      <td>...</td>\n",
       "      <td>...</td>\n",
       "    </tr>\n",
       "    <tr>\n",
       "      <th>2021-01-15</th>\n",
       "      <td>347.940002</td>\n",
       "      <td>347.940002</td>\n",
       "      <td>347.940002</td>\n",
       "      <td>347.940002</td>\n",
       "      <td>0</td>\n",
       "      <td>0.0</td>\n",
       "      <td>0</td>\n",
       "      <td>24.34</td>\n",
       "    </tr>\n",
       "    <tr>\n",
       "      <th>2021-01-19</th>\n",
       "      <td>350.779999</td>\n",
       "      <td>350.779999</td>\n",
       "      <td>350.779999</td>\n",
       "      <td>350.779999</td>\n",
       "      <td>0</td>\n",
       "      <td>0.0</td>\n",
       "      <td>0</td>\n",
       "      <td>23.24</td>\n",
       "    </tr>\n",
       "    <tr>\n",
       "      <th>2021-01-20</th>\n",
       "      <td>355.670013</td>\n",
       "      <td>355.670013</td>\n",
       "      <td>355.670013</td>\n",
       "      <td>355.670013</td>\n",
       "      <td>0</td>\n",
       "      <td>0.0</td>\n",
       "      <td>0</td>\n",
       "      <td>21.58</td>\n",
       "    </tr>\n",
       "    <tr>\n",
       "      <th>2021-01-21</th>\n",
       "      <td>355.809998</td>\n",
       "      <td>355.809998</td>\n",
       "      <td>355.809998</td>\n",
       "      <td>355.809998</td>\n",
       "      <td>0</td>\n",
       "      <td>0.0</td>\n",
       "      <td>0</td>\n",
       "      <td>21.32</td>\n",
       "    </tr>\n",
       "    <tr>\n",
       "      <th>2021-01-22</th>\n",
       "      <td>354.739990</td>\n",
       "      <td>354.739990</td>\n",
       "      <td>354.739990</td>\n",
       "      <td>354.739990</td>\n",
       "      <td>0</td>\n",
       "      <td>0.0</td>\n",
       "      <td>0</td>\n",
       "      <td>21.91</td>\n",
       "    </tr>\n",
       "  </tbody>\n",
       "</table>\n",
       "<p>8833 rows × 8 columns</p>\n",
       "</div>"
      ],
      "text/plain": [
       "                  Open        High         Low       Close  Volume  Dividends  \\\n",
       "1986-01-02    9.969467    9.969467    9.969467    9.969467       0        0.0   \n",
       "1986-01-03   10.035052   10.035052   10.035052   10.035052       0        0.0   \n",
       "1986-01-06   10.030688   10.030688   10.030688   10.030688       0        0.0   \n",
       "1986-01-07   10.179354   10.179354   10.179354   10.179354       0        0.0   \n",
       "1986-01-08    9.899508    9.899508    9.899508    9.899508       0        0.0   \n",
       "...                ...         ...         ...         ...     ...        ...   \n",
       "2021-01-15  347.940002  347.940002  347.940002  347.940002       0        0.0   \n",
       "2021-01-19  350.779999  350.779999  350.779999  350.779999       0        0.0   \n",
       "2021-01-20  355.670013  355.670013  355.670013  355.670013       0        0.0   \n",
       "2021-01-21  355.809998  355.809998  355.809998  355.809998       0        0.0   \n",
       "2021-01-22  354.739990  354.739990  354.739990  354.739990       0        0.0   \n",
       "\n",
       "            Stock Splits  VIX_Close  \n",
       "1986-01-02             0      18.07  \n",
       "1986-01-03             0      17.96  \n",
       "1986-01-06             0      17.05  \n",
       "1986-01-07             0      17.39  \n",
       "1986-01-08             0      19.97  \n",
       "...                  ...        ...  \n",
       "2021-01-15             0      24.34  \n",
       "2021-01-19             0      23.24  \n",
       "2021-01-20             0      21.58  \n",
       "2021-01-21             0      21.32  \n",
       "2021-01-22             0      21.91  \n",
       "\n",
       "[8833 rows x 8 columns]"
      ]
     },
     "execution_count": 12,
     "metadata": {},
     "output_type": "execute_result"
    }
   ],
   "source": [
    "vfinx"
   ]
  },
  {
   "cell_type": "markdown",
   "id": "7f3dbed5",
   "metadata": {},
   "source": [
    "## 10Y US Notes"
   ]
  },
  {
   "cell_type": "code",
   "execution_count": 13,
   "id": "cfabdbf7",
   "metadata": {},
   "outputs": [],
   "source": [
    "ust = pd.read_csv('files/ust_10y_yields_hist.csv')\n",
    "ust['Date'] = pd.to_datetime(ust['Date'])\n",
    "ust.set_index('Date', inplace=True)\n",
    "ust.sort_index(ascending=True, inplace=True)"
   ]
  },
  {
   "cell_type": "code",
   "execution_count": 14,
   "id": "d1c887bc",
   "metadata": {},
   "outputs": [
    {
     "data": {
      "text/plain": [
       "count    9061.000000\n",
       "mean        4.727160\n",
       "std         2.321428\n",
       "min         0.499000\n",
       "25%         2.624000\n",
       "50%         4.564000\n",
       "75%         6.537000\n",
       "max        10.230000\n",
       "Name: Close, dtype: float64"
      ]
     },
     "execution_count": 14,
     "metadata": {},
     "output_type": "execute_result"
    }
   ],
   "source": [
    "ust['Close'].describe()"
   ]
  },
  {
   "cell_type": "code",
   "execution_count": 15,
   "id": "149fcaff",
   "metadata": {},
   "outputs": [
    {
     "data": {
      "image/png": "[encoded data removed]",
      "text/plain": [
       "<Figure size 432x288 with 1 Axes>"
      ]
     },
     "metadata": {
      "needs_background": "light"
     },
     "output_type": "display_data"
    }
   ],
   "source": [
    "ust['Close'].plot()\n",
    "\n",
    "plt.grid()\n",
    "plt.show()"
   ]
  },
  {
   "cell_type": "markdown",
   "id": "c66ca3d8",
   "metadata": {},
   "source": [
    "# Setting some params"
   ]
  },
  {
   "cell_type": "code",
   "execution_count": 16,
   "id": "5d8ae433",
   "metadata": {},
   "outputs": [],
   "source": [
    "dates = vfinx.index\n",
    "securities = ['VFINX']\n",
    "max_loan = 0\n",
    "\n",
    "quotes = vfinx[['Close']].copy()\n",
    "quotes.columns = securities\n",
    "\n",
    "cashflows = pd.DataFrame(vfinx['Dividends'].rename(securities[0])).copy()"
   ]
  },
  {
   "cell_type": "markdown",
   "id": "c804d6f6",
   "metadata": {},
   "source": [
    "# Countering VIX strategy"
   ]
  },
  {
   "cell_type": "code",
   "execution_count": 17,
   "id": "ade073b3",
   "metadata": {
    "scrolled": true
   },
   "outputs": [],
   "source": [
    "ini_positions = None\n",
    "\n",
    "my_strat_backtest = VIXCounteringStrategyBacktest(securities=securities,\n",
    "                                                  dates=dates,\n",
    "                                                  quotes=quotes,\n",
    "                                                  cashflows=cashflows,\n",
    "                                                  capital=capital,\n",
    "                                                  ini_positions=ini_positions,\n",
    "                                                  max_loan=max_loan,\n",
    "                                                  lower_freq=lower_freq)"
   ]
  },
  {
   "cell_type": "code",
   "execution_count": 18,
   "id": "581682be",
   "metadata": {},
   "outputs": [],
   "source": [
    "vix = vfinx['VIX_Close'].copy()\n",
    "opens = vfinx['Open'].copy()"
   ]
  },
  {
   "cell_type": "code",
   "execution_count": 19,
   "id": "0450dbb1",
   "metadata": {},
   "outputs": [],
   "source": [
    "logging.basicConfig(level=logging.DEBUG, filename='task_1.log')"
   ]
  },
  {
   "cell_type": "code",
   "execution_count": 20,
   "id": "111a23ba",
   "metadata": {},
   "outputs": [
    {
     "data": {
      "text/plain": [
       "4"
      ]
     },
     "execution_count": 20,
     "metadata": {},
     "output_type": "execute_result"
    }
   ],
   "source": [
    "(pd.Timestamp('2022-02-05') - pd.Timestamp('2022-02-01')).days"
   ]
  },
  {
   "cell_type": "code",
   "execution_count": 21,
   "id": "efa31da5",
   "metadata": {},
   "outputs": [
    {
     "data": {
      "text/plain": [
       "count    8833.000000\n",
       "mean       19.925365\n",
       "std         8.501164\n",
       "min         9.140000\n",
       "25%        14.090000\n",
       "50%        18.130000\n",
       "75%        23.250000\n",
       "max       150.190000\n",
       "Name: VIX_Close, dtype: float64"
      ]
     },
     "execution_count": 21,
     "metadata": {},
     "output_type": "execute_result"
    }
   ],
   "source": [
    "vix.describe()"
   ]
  },
  {
   "cell_type": "code",
   "execution_count": 22,
   "id": "bd9dbe39",
   "metadata": {},
   "outputs": [],
   "source": [
    "def calc_alloc(vix, threshs: list):\n",
    "    if vix < threshs[0]:\n",
    "        alloc = 1\n",
    "    elif threshs[0] <= vix < threshs[1]:\n",
    "        alloc = .5\n",
    "    else:\n",
    "        alloc = .25\n",
    "    \n",
    "    return alloc\n",
    "\n",
    "# kwargs = {'thresh_1': 20, 'thresh_2': 23, 'thresh_3': 50}\n",
    "kwargs = {'threshs': [20, 24]}"
   ]
  },
  {
   "cell_type": "code",
   "execution_count": 23,
   "id": "5a5b53bb",
   "metadata": {},
   "outputs": [
    {
     "name": "stdout",
     "output_type": "stream",
     "text": [
      "CPU times: user 1min 1s, sys: 1.92 s, total: 1min 3s\n",
      "Wall time: 1min 5s\n"
     ]
    }
   ],
   "source": [
    "%%time\n",
    "\n",
    "my_strat_backtest.run_strategy(vix=vix, calc_alloc=calc_alloc, opens=opens, **kwargs)"
   ]
  },
  {
   "cell_type": "code",
   "execution_count": 24,
   "id": "02261a1f",
   "metadata": {
    "scrolled": true
   },
   "outputs": [],
   "source": [
    "portfolio_ms = my_strat_backtest.get_combined_df()"
   ]
  },
  {
   "cell_type": "code",
   "execution_count": 25,
   "id": "2f8dd63c",
   "metadata": {},
   "outputs": [
    {
     "data": {
      "text/plain": [
       "13.269366168191015"
      ]
     },
     "execution_count": 25,
     "metadata": {},
     "output_type": "execute_result"
    }
   ],
   "source": [
    "portfolio_ms['nav'].iloc[-1] * 1e-6"
   ]
  },
  {
   "cell_type": "code",
   "execution_count": 26,
   "id": "70962a30",
   "metadata": {},
   "outputs": [
    {
     "data": {
      "text/html": [
       "<div>\n",
       "<style scoped>\n",
       "    .dataframe tbody tr th:only-of-type {\n",
       "        vertical-align: middle;\n",
       "    }\n",
       "\n",
       "    .dataframe tbody tr th {\n",
       "        vertical-align: top;\n",
       "    }\n",
       "\n",
       "    .dataframe thead tr th {\n",
       "        text-align: left;\n",
       "    }\n",
       "</style>\n",
       "<table border=\"1\" class=\"dataframe\">\n",
       "  <thead>\n",
       "    <tr>\n",
       "      <th>attr</th>\n",
       "      <th colspan=\"2\" halign=\"left\">price</th>\n",
       "      <th colspan=\"2\" halign=\"left\">cashflow</th>\n",
       "      <th colspan=\"2\" halign=\"left\">weight</th>\n",
       "      <th colspan=\"2\" halign=\"left\">#</th>\n",
       "      <th colspan=\"2\" halign=\"left\">value</th>\n",
       "      <th colspan=\"2\" halign=\"left\">rebalance</th>\n",
       "      <th colspan=\"2\" halign=\"left\">rebalance price</th>\n",
       "      <th>nav</th>\n",
       "    </tr>\n",
       "    <tr>\n",
       "      <th>sec</th>\n",
       "      <th>VFINX</th>\n",
       "      <th>cash</th>\n",
       "      <th>VFINX</th>\n",
       "      <th>cash</th>\n",
       "      <th>VFINX</th>\n",
       "      <th>cash</th>\n",
       "      <th>VFINX</th>\n",
       "      <th>cash</th>\n",
       "      <th>VFINX</th>\n",
       "      <th>cash</th>\n",
       "      <th>VFINX</th>\n",
       "      <th>cash</th>\n",
       "      <th>VFINX</th>\n",
       "      <th>cash</th>\n",
       "      <th></th>\n",
       "    </tr>\n",
       "  </thead>\n",
       "  <tbody>\n",
       "    <tr>\n",
       "      <th>1986-01-02</th>\n",
       "      <td>9.969467</td>\n",
       "      <td>1</td>\n",
       "      <td>0.0</td>\n",
       "      <td>0</td>\n",
       "      <td>0.000000</td>\n",
       "      <td>1.000000</td>\n",
       "      <td>0.000000</td>\n",
       "      <td>1.000000e+06</td>\n",
       "      <td>0.000000e+00</td>\n",
       "      <td>1.000000e+06</td>\n",
       "      <td>NaN</td>\n",
       "      <td>NaN</td>\n",
       "      <td>NaN</td>\n",
       "      <td>1</td>\n",
       "      <td>1.000000e+06</td>\n",
       "    </tr>\n",
       "    <tr>\n",
       "      <th>1986-01-03</th>\n",
       "      <td>10.035052</td>\n",
       "      <td>1</td>\n",
       "      <td>0.0</td>\n",
       "      <td>0</td>\n",
       "      <td>0.000000</td>\n",
       "      <td>1.000000</td>\n",
       "      <td>0.000000</td>\n",
       "      <td>1.000000e+06</td>\n",
       "      <td>0.000000e+00</td>\n",
       "      <td>1.000000e+06</td>\n",
       "      <td>NaN</td>\n",
       "      <td>NaN</td>\n",
       "      <td>NaN</td>\n",
       "      <td>1</td>\n",
       "      <td>1.000000e+06</td>\n",
       "    </tr>\n",
       "    <tr>\n",
       "      <th>1986-01-06</th>\n",
       "      <td>10.030688</td>\n",
       "      <td>1</td>\n",
       "      <td>0.0</td>\n",
       "      <td>0</td>\n",
       "      <td>0.999565</td>\n",
       "      <td>0.000435</td>\n",
       "      <td>99650.701377</td>\n",
       "      <td>4.348770e+02</td>\n",
       "      <td>9.995651e+05</td>\n",
       "      <td>4.348770e+02</td>\n",
       "      <td>99650.701377</td>\n",
       "      <td>-9.995651e+05</td>\n",
       "      <td>10.030688</td>\n",
       "      <td>1</td>\n",
       "      <td>1.000000e+06</td>\n",
       "    </tr>\n",
       "    <tr>\n",
       "      <th>1986-01-07</th>\n",
       "      <td>10.179354</td>\n",
       "      <td>1</td>\n",
       "      <td>0.0</td>\n",
       "      <td>0</td>\n",
       "      <td>0.999571</td>\n",
       "      <td>0.000429</td>\n",
       "      <td>99650.701377</td>\n",
       "      <td>4.348770e+02</td>\n",
       "      <td>1.014380e+06</td>\n",
       "      <td>4.348770e+02</td>\n",
       "      <td>NaN</td>\n",
       "      <td>NaN</td>\n",
       "      <td>NaN</td>\n",
       "      <td>1</td>\n",
       "      <td>1.014815e+06</td>\n",
       "    </tr>\n",
       "    <tr>\n",
       "      <th>1986-01-08</th>\n",
       "      <td>9.899508</td>\n",
       "      <td>1</td>\n",
       "      <td>0.0</td>\n",
       "      <td>0</td>\n",
       "      <td>0.999559</td>\n",
       "      <td>0.000441</td>\n",
       "      <td>99650.701377</td>\n",
       "      <td>4.348770e+02</td>\n",
       "      <td>9.864929e+05</td>\n",
       "      <td>4.348770e+02</td>\n",
       "      <td>NaN</td>\n",
       "      <td>NaN</td>\n",
       "      <td>NaN</td>\n",
       "      <td>1</td>\n",
       "      <td>9.869277e+05</td>\n",
       "    </tr>\n",
       "    <tr>\n",
       "      <th>...</th>\n",
       "      <td>...</td>\n",
       "      <td>...</td>\n",
       "      <td>...</td>\n",
       "      <td>...</td>\n",
       "      <td>...</td>\n",
       "      <td>...</td>\n",
       "      <td>...</td>\n",
       "      <td>...</td>\n",
       "      <td>...</td>\n",
       "      <td>...</td>\n",
       "      <td>...</td>\n",
       "      <td>...</td>\n",
       "      <td>...</td>\n",
       "      <td>...</td>\n",
       "      <td>...</td>\n",
       "    </tr>\n",
       "    <tr>\n",
       "      <th>2021-01-15</th>\n",
       "      <td>347.940002</td>\n",
       "      <td>1</td>\n",
       "      <td>0.0</td>\n",
       "      <td>0</td>\n",
       "      <td>0.496328</td>\n",
       "      <td>0.503672</td>\n",
       "      <td>18798.786246</td>\n",
       "      <td>6.637631e+06</td>\n",
       "      <td>6.540850e+06</td>\n",
       "      <td>6.637631e+06</td>\n",
       "      <td>NaN</td>\n",
       "      <td>NaN</td>\n",
       "      <td>NaN</td>\n",
       "      <td>1</td>\n",
       "      <td>1.317848e+07</td>\n",
       "    </tr>\n",
       "    <tr>\n",
       "      <th>2021-01-19</th>\n",
       "      <td>350.779999</td>\n",
       "      <td>1</td>\n",
       "      <td>0.0</td>\n",
       "      <td>0</td>\n",
       "      <td>0.251024</td>\n",
       "      <td>0.748976</td>\n",
       "      <td>9468.931929</td>\n",
       "      <td>9.910357e+06</td>\n",
       "      <td>3.321512e+06</td>\n",
       "      <td>9.910357e+06</td>\n",
       "      <td>-9329.854317</td>\n",
       "      <td>3.272726e+06</td>\n",
       "      <td>350.779999</td>\n",
       "      <td>1</td>\n",
       "      <td>1.323187e+07</td>\n",
       "    </tr>\n",
       "    <tr>\n",
       "      <th>2021-01-20</th>\n",
       "      <td>355.670013</td>\n",
       "      <td>1</td>\n",
       "      <td>0.0</td>\n",
       "      <td>0</td>\n",
       "      <td>0.253635</td>\n",
       "      <td>0.746365</td>\n",
       "      <td>9468.931929</td>\n",
       "      <td>9.910357e+06</td>\n",
       "      <td>3.367815e+06</td>\n",
       "      <td>9.910357e+06</td>\n",
       "      <td>NaN</td>\n",
       "      <td>NaN</td>\n",
       "      <td>NaN</td>\n",
       "      <td>1</td>\n",
       "      <td>1.327817e+07</td>\n",
       "    </tr>\n",
       "    <tr>\n",
       "      <th>2021-01-21</th>\n",
       "      <td>355.809998</td>\n",
       "      <td>1</td>\n",
       "      <td>0.0</td>\n",
       "      <td>0</td>\n",
       "      <td>0.253710</td>\n",
       "      <td>0.746290</td>\n",
       "      <td>9468.931929</td>\n",
       "      <td>9.910357e+06</td>\n",
       "      <td>3.369141e+06</td>\n",
       "      <td>9.910357e+06</td>\n",
       "      <td>NaN</td>\n",
       "      <td>NaN</td>\n",
       "      <td>NaN</td>\n",
       "      <td>1</td>\n",
       "      <td>1.327950e+07</td>\n",
       "    </tr>\n",
       "    <tr>\n",
       "      <th>2021-01-22</th>\n",
       "      <td>354.739990</td>\n",
       "      <td>1</td>\n",
       "      <td>0.0</td>\n",
       "      <td>0</td>\n",
       "      <td>0.253140</td>\n",
       "      <td>0.746860</td>\n",
       "      <td>9468.931929</td>\n",
       "      <td>9.910357e+06</td>\n",
       "      <td>3.359009e+06</td>\n",
       "      <td>9.910357e+06</td>\n",
       "      <td>NaN</td>\n",
       "      <td>NaN</td>\n",
       "      <td>NaN</td>\n",
       "      <td>1</td>\n",
       "      <td>1.326937e+07</td>\n",
       "    </tr>\n",
       "  </tbody>\n",
       "</table>\n",
       "<p>8833 rows × 15 columns</p>\n",
       "</div>"
      ],
      "text/plain": [
       "attr             price      cashflow         weight                       #  \\\n",
       "sec              VFINX cash    VFINX cash     VFINX      cash         VFINX   \n",
       "1986-01-02    9.969467    1      0.0    0  0.000000  1.000000      0.000000   \n",
       "1986-01-03   10.035052    1      0.0    0  0.000000  1.000000      0.000000   \n",
       "1986-01-06   10.030688    1      0.0    0  0.999565  0.000435  99650.701377   \n",
       "1986-01-07   10.179354    1      0.0    0  0.999571  0.000429  99650.701377   \n",
       "1986-01-08    9.899508    1      0.0    0  0.999559  0.000441  99650.701377   \n",
       "...                ...  ...      ...  ...       ...       ...           ...   \n",
       "2021-01-15  347.940002    1      0.0    0  0.496328  0.503672  18798.786246   \n",
       "2021-01-19  350.779999    1      0.0    0  0.251024  0.748976   9468.931929   \n",
       "2021-01-20  355.670013    1      0.0    0  0.253635  0.746365   9468.931929   \n",
       "2021-01-21  355.809998    1      0.0    0  0.253710  0.746290   9468.931929   \n",
       "2021-01-22  354.739990    1      0.0    0  0.253140  0.746860   9468.931929   \n",
       "\n",
       "attr                             value                   rebalance  \\\n",
       "sec                 cash         VFINX          cash         VFINX   \n",
       "1986-01-02  1.000000e+06  0.000000e+00  1.000000e+06           NaN   \n",
       "1986-01-03  1.000000e+06  0.000000e+00  1.000000e+06           NaN   \n",
       "1986-01-06  4.348770e+02  9.995651e+05  4.348770e+02  99650.701377   \n",
       "1986-01-07  4.348770e+02  1.014380e+06  4.348770e+02           NaN   \n",
       "1986-01-08  4.348770e+02  9.864929e+05  4.348770e+02           NaN   \n",
       "...                  ...           ...           ...           ...   \n",
       "2021-01-15  6.637631e+06  6.540850e+06  6.637631e+06           NaN   \n",
       "2021-01-19  9.910357e+06  3.321512e+06  9.910357e+06  -9329.854317   \n",
       "2021-01-20  9.910357e+06  3.367815e+06  9.910357e+06           NaN   \n",
       "2021-01-21  9.910357e+06  3.369141e+06  9.910357e+06           NaN   \n",
       "2021-01-22  9.910357e+06  3.359009e+06  9.910357e+06           NaN   \n",
       "\n",
       "attr                     rebalance price                nav  \n",
       "sec                 cash           VFINX cash                \n",
       "1986-01-02           NaN             NaN    1  1.000000e+06  \n",
       "1986-01-03           NaN             NaN    1  1.000000e+06  \n",
       "1986-01-06 -9.995651e+05       10.030688    1  1.000000e+06  \n",
       "1986-01-07           NaN             NaN    1  1.014815e+06  \n",
       "1986-01-08           NaN             NaN    1  9.869277e+05  \n",
       "...                  ...             ...  ...           ...  \n",
       "2021-01-15           NaN             NaN    1  1.317848e+07  \n",
       "2021-01-19  3.272726e+06      350.779999    1  1.323187e+07  \n",
       "2021-01-20           NaN             NaN    1  1.327817e+07  \n",
       "2021-01-21           NaN             NaN    1  1.327950e+07  \n",
       "2021-01-22           NaN             NaN    1  1.326937e+07  \n",
       "\n",
       "[8833 rows x 15 columns]"
      ]
     },
     "execution_count": 26,
     "metadata": {},
     "output_type": "execute_result"
    }
   ],
   "source": [
    "portfolio_ms"
   ]
  },
  {
   "cell_type": "code",
   "execution_count": 28,
   "id": "f02538e1",
   "metadata": {},
   "outputs": [],
   "source": [
    "# pd.concat([portfolio_ms, pd.DataFrame(vix)], axis='columns', join='outer').head(10)"
   ]
  },
  {
   "cell_type": "code",
   "execution_count": 29,
   "id": "7320aac2",
   "metadata": {
    "scrolled": false
   },
   "outputs": [
    {
     "data": {
      "image/png": "[encoded data removed]",
      "text/plain": [
       "<Figure size 576x360 with 2 Axes>"
      ]
     },
     "metadata": {
      "needs_background": "light"
     },
     "output_type": "display_data"
    }
   ],
   "source": [
    "fig, ax1 = plt.subplots(figsize=(8, 5))\n",
    "ax2 = ax1.twinx()\n",
    "\n",
    "portfolio_ms['weight']['VFINX'].plot(ax=ax1, label='VFINX allocation')\n",
    "vix.plot(ax=ax2, label='VIX close', color='tab:red')\n",
    "\n",
    "fig.legend()\n",
    "ax1.grid()\n",
    "# ax2.grid()\n",
    "fig.tight_layout()\n",
    "plt.show()"
   ]
  },
  {
   "cell_type": "code",
   "execution_count": 30,
   "id": "9d950cb4",
   "metadata": {},
   "outputs": [
    {
     "data": {
      "image/png": "[encoded data removed]",
      "text/plain": [
       "<Figure size 432x288 with 1 Axes>"
      ]
     },
     "metadata": {
      "needs_background": "light"
     },
     "output_type": "display_data"
    }
   ],
   "source": [
    "portfolio_ms['nav'].plot()\n",
    "\n",
    "plt.grid()\n",
    "plt.show()"
   ]
  },
  {
   "cell_type": "markdown",
   "id": "9230cc57",
   "metadata": {},
   "source": [
    "## Evaluating aggregate portfolio results"
   ]
  },
  {
   "cell_type": "code",
   "execution_count": 31,
   "id": "de6a2e3a",
   "metadata": {},
   "outputs": [],
   "source": [
    "annualization_factor = 360\n",
    "\n",
    "portf_res_ms = perform_backtest(my_strat_backtest.nav, ust['Close'] / 100, risk_free_annualized=True,\n",
    "                                annualization_factor=annualization_factor).copy()"
   ]
  },
  {
   "cell_type": "code",
   "execution_count": 32,
   "id": "0be32b30",
   "metadata": {},
   "outputs": [
    {
     "data": {
      "image/png": "[encoded data removed]",
      "text/plain": [
       "<Figure size 432x288 with 1 Axes>"
      ]
     },
     "metadata": {
      "needs_background": "light"
     },
     "output_type": "display_data"
    }
   ],
   "source": [
    "_cols = ['daily return', 'risk free rate', 'excess return daily']\n",
    "_data = portf_res_ms[_cols] * 100\n",
    "_data.plot()\n",
    "\n",
    "plt.grid()\n",
    "plt.show()"
   ]
  },
  {
   "cell_type": "markdown",
   "id": "f334b73f",
   "metadata": {},
   "source": [
    "### Return"
   ]
  },
  {
   "cell_type": "code",
   "execution_count": 33,
   "id": "4f767e48",
   "metadata": {},
   "outputs": [
    {
     "data": {
      "text/plain": [
       "0.07666707835674624"
      ]
     },
     "execution_count": 33,
     "metadata": {},
     "output_type": "execute_result"
    }
   ],
   "source": [
    "(portf_res_ms['total return'].iloc[-1] + 1) ** (1 / 35) - 1"
   ]
  },
  {
   "cell_type": "markdown",
   "id": "4c680b65",
   "metadata": {},
   "source": [
    "### Sharpe"
   ]
  },
  {
   "cell_type": "code",
   "execution_count": 34,
   "id": "774eb143",
   "metadata": {},
   "outputs": [
    {
     "data": {
      "text/plain": [
       "0.5599452320145017"
      ]
     },
     "execution_count": 34,
     "metadata": {},
     "output_type": "execute_result"
    }
   ],
   "source": [
    "calc_sharpe(portf_res_ms['excess return'].mean(),\n",
    "            portf_res_ms['excess return'].std(),\n",
    "            multiply_by=252 ** .5)"
   ]
  },
  {
   "cell_type": "markdown",
   "id": "8a4ec8b2",
   "metadata": {},
   "source": [
    "# Buy & hodl strategy"
   ]
  },
  {
   "cell_type": "markdown",
   "id": "09340767",
   "metadata": {},
   "source": [
    "## Running strategy"
   ]
  },
  {
   "cell_type": "code",
   "execution_count": 35,
   "id": "646a67f6",
   "metadata": {},
   "outputs": [],
   "source": [
    "# logging.basicConfig(level=logging.DEBUG)"
   ]
  },
  {
   "cell_type": "code",
   "execution_count": 36,
   "id": "16bfdd0b",
   "metadata": {
    "scrolled": true
   },
   "outputs": [],
   "source": [
    "ini_positions = None\n",
    "\n",
    "pb = PortfolioBacktest(securities=securities,\n",
    "                       dates=dates,\n",
    "                       quotes=quotes,\n",
    "                       capital=capital,\n",
    "                       ini_positions=ini_positions,\n",
    "                       max_loan=max_loan)"
   ]
  },
  {
   "cell_type": "code",
   "execution_count": 37,
   "id": "e4e2082d",
   "metadata": {},
   "outputs": [
    {
     "name": "stdout",
     "output_type": "stream",
     "text": [
      "CPU times: user 15.3 s, sys: 394 ms, total: 15.7 s\n",
      "Wall time: 16 s\n"
     ]
    }
   ],
   "source": [
    "%%time\n",
    "\n",
    "pb.run_strategy()"
   ]
  },
  {
   "cell_type": "code",
   "execution_count": 38,
   "id": "a0da3c3f",
   "metadata": {
    "scrolled": true
   },
   "outputs": [],
   "source": [
    "portfolio_bh = pb.get_combined_df()"
   ]
  },
  {
   "cell_type": "code",
   "execution_count": 39,
   "id": "ca9899e9",
   "metadata": {},
   "outputs": [
    {
     "data": {
      "text/plain": [
       "35.582642926735296"
      ]
     },
     "execution_count": 39,
     "metadata": {},
     "output_type": "execute_result"
    }
   ],
   "source": [
    "portfolio_bh['nav'].iloc[-1] * 1e-6"
   ]
  },
  {
   "cell_type": "code",
   "execution_count": 40,
   "id": "e3e4bfce",
   "metadata": {},
   "outputs": [
    {
     "data": {
      "image/png": "[encoded data removed]",
      "text/plain": [
       "<Figure size 432x288 with 1 Axes>"
      ]
     },
     "metadata": {
      "needs_background": "light"
     },
     "output_type": "display_data"
    }
   ],
   "source": [
    "portfolio_bh['weight']['VFINX'].plot()\n",
    "\n",
    "plt.grid()\n",
    "plt.show()"
   ]
  },
  {
   "cell_type": "markdown",
   "id": "d1bfd35a",
   "metadata": {},
   "source": [
    "## Evaluating aggregate portfolio results"
   ]
  },
  {
   "cell_type": "code",
   "execution_count": 41,
   "id": "50d3d651",
   "metadata": {},
   "outputs": [],
   "source": [
    "annualization_factor = 360\n",
    "\n",
    "portf_res_bh = perform_backtest(pb.nav, ust['Close'] / 100, risk_free_annualized=True,\n",
    "                             annualization_factor=annualization_factor).copy()"
   ]
  },
  {
   "cell_type": "code",
   "execution_count": 42,
   "id": "47a33c54",
   "metadata": {},
   "outputs": [
    {
     "data": {
      "text/plain": [
       "0.10744225828819354"
      ]
     },
     "execution_count": 42,
     "metadata": {},
     "output_type": "execute_result"
    }
   ],
   "source": [
    "(portf_res_bh['total return'].iloc[-1] + 1) ** (1 / 35) - 1"
   ]
  },
  {
   "cell_type": "code",
   "execution_count": 43,
   "id": "e994a121",
   "metadata": {},
   "outputs": [
    {
     "data": {
      "image/png": "[encoded data removed]",
      "text/plain": [
       "<Figure size 432x288 with 1 Axes>"
      ]
     },
     "metadata": {
      "needs_background": "light"
     },
     "output_type": "display_data"
    }
   ],
   "source": [
    "_cols = ['daily return', 'risk free rate', 'excess return daily']\n",
    "_data = portf_res_bh[_cols] * 100\n",
    "_data.plot()\n",
    "\n",
    "plt.grid()\n",
    "plt.show()"
   ]
  },
  {
   "cell_type": "code",
   "execution_count": 44,
   "id": "4a2717ff",
   "metadata": {},
   "outputs": [
    {
     "data": {
      "image/png": "[encoded data removed]",
      "text/plain": [
       "<Figure size 432x288 with 1 Axes>"
      ]
     },
     "metadata": {
      "needs_background": "light"
     },
     "output_type": "display_data"
    }
   ],
   "source": [
    "_cols = ['total PnL']\n",
    "_data = portf_res_bh[_cols]\n",
    "_data.plot()\n",
    "\n",
    "plt.grid()\n",
    "plt.show()"
   ]
  },
  {
   "cell_type": "markdown",
   "id": "64a23404",
   "metadata": {},
   "source": [
    "### Sharpe"
   ]
  },
  {
   "cell_type": "code",
   "execution_count": 45,
   "id": "eaa3cd85",
   "metadata": {},
   "outputs": [
    {
     "data": {
      "text/plain": [
       "0.1828539744781804"
      ]
     },
     "execution_count": 45,
     "metadata": {},
     "output_type": "execute_result"
    }
   ],
   "source": [
    "calc_sharpe(portf_res_bh['excess return'].mean(),\n",
    "            portf_res_bh['excess return'].std(),\n",
    "            multiply_by=252 ** .5)"
   ]
  }
 ],
 "metadata": {
  "kernelspec": {
   "display_name": "Python 3 (ipykernel)",
   "language": "python",
   "name": "python3"
  },
  "language_info": {
   "codemirror_mode": {
    "name": "ipython",
    "version": 3
   },
   "file_extension": ".py",
   "mimetype": "text/x-python",
   "name": "python",
   "nbconvert_exporter": "python",
   "pygments_lexer": "ipython3",
   "version": "3.9.7"
  }
 },
 "nbformat": 4,
 "nbformat_minor": 5
}
