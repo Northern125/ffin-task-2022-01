{
 "cells": [
  {
   "cell_type": "code",
   "execution_count": 1,
   "id": "60bdeed1",
   "metadata": {},
   "outputs": [],
   "source": [
    "import json\n",
    "import pandas as pd\n",
    "import numpy as np\n",
    "from datetime import datetime\n",
    "import matplotlib.pyplot as plt\n",
    "import logging"
   ]
  },
  {
   "cell_type": "code",
   "execution_count": 73,
   "id": "163f056e",
   "metadata": {},
   "outputs": [],
   "source": [
    "from pandas import IndexSlice as idx"
   ]
  },
  {
   "cell_type": "code",
   "execution_count": 2,
   "id": "0b8982e5",
   "metadata": {},
   "outputs": [],
   "source": [
    "from backtesting import perform_backtest, PortfolioBacktest"
   ]
  },
  {
   "cell_type": "code",
   "execution_count": 3,
   "id": "59c310e6",
   "metadata": {},
   "outputs": [],
   "source": [
    "source_folder = 'files'"
   ]
  },
  {
   "cell_type": "markdown",
   "id": "c754fc47",
   "metadata": {},
   "source": [
    "# Reading data"
   ]
  },
  {
   "cell_type": "markdown",
   "id": "751a13d6",
   "metadata": {},
   "source": [
    "## VFINX"
   ]
  },
  {
   "cell_type": "code",
   "execution_count": 4,
   "id": "3dacb2f4",
   "metadata": {},
   "outputs": [],
   "source": [
    "with open(f'{source_folder}/VFINX.json', 'r') as file:\n",
    "    _vfinx = json.load(file)\n",
    "\n",
    "vfinx = pd.DataFrame.from_dict(_vfinx).copy()\n",
    "vfinx.index = pd.Series(pd.to_numeric(vfinx.index)).apply(lambda _date: datetime.fromtimestamp(_date * 1e-3))\n",
    "vfinx.sort_index(ascending=True, inplace=True)\n",
    "\n",
    "vfinx.index = vfinx.index.tz_localize(None).floor(freq='D')"
   ]
  },
  {
   "cell_type": "code",
   "execution_count": 5,
   "id": "034c30d3",
   "metadata": {},
   "outputs": [
    {
     "data": {
      "text/html": [
       "<div>\n",
       "<style scoped>\n",
       "    .dataframe tbody tr th:only-of-type {\n",
       "        vertical-align: middle;\n",
       "    }\n",
       "\n",
       "    .dataframe tbody tr th {\n",
       "        vertical-align: top;\n",
       "    }\n",
       "\n",
       "    .dataframe thead th {\n",
       "        text-align: right;\n",
       "    }\n",
       "</style>\n",
       "<table border=\"1\" class=\"dataframe\">\n",
       "  <thead>\n",
       "    <tr style=\"text-align: right;\">\n",
       "      <th></th>\n",
       "      <th>Open</th>\n",
       "      <th>High</th>\n",
       "      <th>Low</th>\n",
       "      <th>Close</th>\n",
       "      <th>Volume</th>\n",
       "      <th>Dividends</th>\n",
       "      <th>Stock Splits</th>\n",
       "      <th>VIX_Close</th>\n",
       "    </tr>\n",
       "  </thead>\n",
       "  <tbody>\n",
       "    <tr>\n",
       "      <th>count</th>\n",
       "      <td>8833.000000</td>\n",
       "      <td>8833.000000</td>\n",
       "      <td>8833.000000</td>\n",
       "      <td>8833.000000</td>\n",
       "      <td>8833.0</td>\n",
       "      <td>8833.000000</td>\n",
       "      <td>8833.0</td>\n",
       "      <td>8833.000000</td>\n",
       "    </tr>\n",
       "    <tr>\n",
       "      <th>mean</th>\n",
       "      <td>91.410905</td>\n",
       "      <td>91.410905</td>\n",
       "      <td>91.410905</td>\n",
       "      <td>91.410905</td>\n",
       "      <td>0.0</td>\n",
       "      <td>0.008916</td>\n",
       "      <td>0.0</td>\n",
       "      <td>19.925365</td>\n",
       "    </tr>\n",
       "    <tr>\n",
       "      <th>std</th>\n",
       "      <td>74.364430</td>\n",
       "      <td>74.364430</td>\n",
       "      <td>74.364430</td>\n",
       "      <td>74.364430</td>\n",
       "      <td>0.0</td>\n",
       "      <td>0.081741</td>\n",
       "      <td>0.0</td>\n",
       "      <td>8.501164</td>\n",
       "    </tr>\n",
       "    <tr>\n",
       "      <th>min</th>\n",
       "      <td>9.693998</td>\n",
       "      <td>9.693998</td>\n",
       "      <td>9.693998</td>\n",
       "      <td>9.693998</td>\n",
       "      <td>0.0</td>\n",
       "      <td>0.000000</td>\n",
       "      <td>0.0</td>\n",
       "      <td>9.140000</td>\n",
       "    </tr>\n",
       "    <tr>\n",
       "      <th>25%</th>\n",
       "      <td>26.499744</td>\n",
       "      <td>26.499744</td>\n",
       "      <td>26.499744</td>\n",
       "      <td>26.499744</td>\n",
       "      <td>0.0</td>\n",
       "      <td>0.000000</td>\n",
       "      <td>0.0</td>\n",
       "      <td>14.090000</td>\n",
       "    </tr>\n",
       "    <tr>\n",
       "      <th>50%</th>\n",
       "      <td>77.715508</td>\n",
       "      <td>77.715508</td>\n",
       "      <td>77.715508</td>\n",
       "      <td>77.715508</td>\n",
       "      <td>0.0</td>\n",
       "      <td>0.000000</td>\n",
       "      <td>0.0</td>\n",
       "      <td>18.130000</td>\n",
       "    </tr>\n",
       "    <tr>\n",
       "      <th>75%</th>\n",
       "      <td>107.777855</td>\n",
       "      <td>107.777855</td>\n",
       "      <td>107.777855</td>\n",
       "      <td>107.777855</td>\n",
       "      <td>0.0</td>\n",
       "      <td>0.000000</td>\n",
       "      <td>0.0</td>\n",
       "      <td>23.250000</td>\n",
       "    </tr>\n",
       "    <tr>\n",
       "      <th>max</th>\n",
       "      <td>355.809998</td>\n",
       "      <td>355.809998</td>\n",
       "      <td>355.809998</td>\n",
       "      <td>355.809998</td>\n",
       "      <td>0.0</td>\n",
       "      <td>1.390000</td>\n",
       "      <td>0.0</td>\n",
       "      <td>150.190000</td>\n",
       "    </tr>\n",
       "  </tbody>\n",
       "</table>\n",
       "</div>"
      ],
      "text/plain": [
       "              Open         High          Low        Close  Volume  \\\n",
       "count  8833.000000  8833.000000  8833.000000  8833.000000  8833.0   \n",
       "mean     91.410905    91.410905    91.410905    91.410905     0.0   \n",
       "std      74.364430    74.364430    74.364430    74.364430     0.0   \n",
       "min       9.693998     9.693998     9.693998     9.693998     0.0   \n",
       "25%      26.499744    26.499744    26.499744    26.499744     0.0   \n",
       "50%      77.715508    77.715508    77.715508    77.715508     0.0   \n",
       "75%     107.777855   107.777855   107.777855   107.777855     0.0   \n",
       "max     355.809998   355.809998   355.809998   355.809998     0.0   \n",
       "\n",
       "         Dividends  Stock Splits    VIX_Close  \n",
       "count  8833.000000        8833.0  8833.000000  \n",
       "mean      0.008916           0.0    19.925365  \n",
       "std       0.081741           0.0     8.501164  \n",
       "min       0.000000           0.0     9.140000  \n",
       "25%       0.000000           0.0    14.090000  \n",
       "50%       0.000000           0.0    18.130000  \n",
       "75%       0.000000           0.0    23.250000  \n",
       "max       1.390000           0.0   150.190000  "
      ]
     },
     "execution_count": 5,
     "metadata": {},
     "output_type": "execute_result"
    }
   ],
   "source": [
    "vfinx.describe()"
   ]
  },
  {
   "cell_type": "code",
   "execution_count": 6,
   "id": "3289d3dc",
   "metadata": {},
   "outputs": [
    {
     "data": {
      "text/plain": [
       "0    8833\n",
       "Name: Volume, dtype: int64"
      ]
     },
     "execution_count": 6,
     "metadata": {},
     "output_type": "execute_result"
    }
   ],
   "source": [
    "vfinx['Volume'].value_counts()"
   ]
  },
  {
   "cell_type": "code",
   "execution_count": 7,
   "id": "366910a5",
   "metadata": {},
   "outputs": [
    {
     "data": {
      "text/plain": [
       "0.000    8692\n",
       "0.180      15\n",
       "0.220      12\n",
       "0.350       5\n",
       "0.300       5\n",
       "         ... \n",
       "0.520       1\n",
       "0.480       1\n",
       "0.490       1\n",
       "0.530       1\n",
       "1.311       1\n",
       "Name: Dividends, Length: 91, dtype: int64"
      ]
     },
     "execution_count": 7,
     "metadata": {},
     "output_type": "execute_result"
    }
   ],
   "source": [
    "vfinx['Dividends'].value_counts()"
   ]
  },
  {
   "cell_type": "code",
   "execution_count": 8,
   "id": "3702d222",
   "metadata": {},
   "outputs": [
    {
     "data": {
      "text/plain": [
       "0    8833\n",
       "Name: Stock Splits, dtype: int64"
      ]
     },
     "execution_count": 8,
     "metadata": {},
     "output_type": "execute_result"
    }
   ],
   "source": [
    "vfinx['Stock Splits'].value_counts()"
   ]
  },
  {
   "cell_type": "code",
   "execution_count": 9,
   "id": "249bc8fb",
   "metadata": {
    "scrolled": false
   },
   "outputs": [
    {
     "data": {
      "image/png": "[encoded data removed]",
      "text/plain": [
       "<Figure size 576x360 with 2 Axes>"
      ]
     },
     "metadata": {
      "needs_background": "light"
     },
     "output_type": "display_data"
    },
    {
     "data": {
      "image/png": "[encoded data removed]",
      "text/plain": [
       "<Figure size 432x288 with 1 Axes>"
      ]
     },
     "metadata": {
      "needs_background": "light"
     },
     "output_type": "display_data"
    }
   ],
   "source": [
    "fig, ax1 = plt.subplots(figsize=(8, 5))\n",
    "ax2 = ax1.twinx()\n",
    "\n",
    "vfinx['Close'].plot(ax=ax1, label='VFINX close')\n",
    "vfinx['VIX_Close'].plot(ax=ax2, label='VIX close', color='tab:red')\n",
    "\n",
    "fig.legend()\n",
    "ax1.grid()\n",
    "# ax2.grid()\n",
    "fig.tight_layout()\n",
    "plt.show()\n",
    "\n",
    "vfinx['Dividends'].plot()\n",
    "plt.grid()\n",
    "plt.show()"
   ]
  },
  {
   "cell_type": "markdown",
   "id": "dfa27f1c",
   "metadata": {},
   "source": [
    "## 10Y US Notes"
   ]
  },
  {
   "cell_type": "code",
   "execution_count": 10,
   "id": "a650432f",
   "metadata": {},
   "outputs": [],
   "source": [
    "ust = pd.read_csv('files/ust_10y_yields_hist.csv')\n",
    "ust['Date'] = pd.to_datetime(ust['Date'])\n",
    "ust.set_index('Date', inplace=True)\n",
    "ust.sort_index(ascending=True, inplace=True)"
   ]
  },
  {
   "cell_type": "code",
   "execution_count": 11,
   "id": "aaa722c3",
   "metadata": {},
   "outputs": [
    {
     "data": {
      "text/plain": [
       "count    9061.000000\n",
       "mean        4.727160\n",
       "std         2.321428\n",
       "min         0.499000\n",
       "25%         2.624000\n",
       "50%         4.564000\n",
       "75%         6.537000\n",
       "max        10.230000\n",
       "Name: Close, dtype: float64"
      ]
     },
     "execution_count": 11,
     "metadata": {},
     "output_type": "execute_result"
    }
   ],
   "source": [
    "ust['Close'].describe()"
   ]
  },
  {
   "cell_type": "code",
   "execution_count": 12,
   "id": "ef5ecc45",
   "metadata": {},
   "outputs": [
    {
     "data": {
      "image/png": "[encoded data removed]",
      "text/plain": [
       "<Figure size 432x288 with 1 Axes>"
      ]
     },
     "metadata": {
      "needs_background": "light"
     },
     "output_type": "display_data"
    }
   ],
   "source": [
    "ust['Close'].plot()\n",
    "\n",
    "plt.grid()\n",
    "plt.show()"
   ]
  },
  {
   "cell_type": "markdown",
   "id": "3aea8db4",
   "metadata": {},
   "source": [
    "# Strategy"
   ]
  },
  {
   "cell_type": "code",
   "execution_count": null,
   "id": "aae5533c",
   "metadata": {},
   "outputs": [],
   "source": []
  },
  {
   "cell_type": "markdown",
   "id": "f6a85074",
   "metadata": {},
   "source": [
    "# Backtesting"
   ]
  },
  {
   "cell_type": "code",
   "execution_count": 48,
   "id": "5756535a",
   "metadata": {},
   "outputs": [],
   "source": [
    "# logging.basicConfig(level=logging.DEBUG)"
   ]
  },
  {
   "cell_type": "code",
   "execution_count": 49,
   "id": "b561fd1d",
   "metadata": {},
   "outputs": [
    {
     "name": "stderr",
     "output_type": "stream",
     "text": [
      "DEBUG:backtesting.perform_backtest:Date\n",
      "1986-01-02    0.09040\n",
      "1986-01-03    0.09050\n",
      "1986-01-05        NaN\n",
      "1986-01-06    0.09070\n",
      "1986-01-07    0.08940\n",
      "               ...   \n",
      "2022-02-07    0.01916\n",
      "2022-02-08    0.01954\n",
      "2022-02-09    0.01929\n",
      "2022-02-10    0.02031\n",
      "2022-02-11    0.01955\n",
      "Name: risk free rate, Length: 11172, dtype: float64\n"
     ]
    }
   ],
   "source": [
    "annualization_factor = 360\n",
    "\n",
    "portf_res = perform_backtest(vfinx['Close'], ust['Close'] / 100, risk_free_annualized=True,\n",
    "                             annualization_factor=annualization_factor).copy()"
   ]
  },
  {
   "cell_type": "code",
   "execution_count": 50,
   "id": "d2513e96",
   "metadata": {},
   "outputs": [
    {
     "data": {
      "text/html": [
       "<div>\n",
       "<style scoped>\n",
       "    .dataframe tbody tr th:only-of-type {\n",
       "        vertical-align: middle;\n",
       "    }\n",
       "\n",
       "    .dataframe tbody tr th {\n",
       "        vertical-align: top;\n",
       "    }\n",
       "\n",
       "    .dataframe thead th {\n",
       "        text-align: right;\n",
       "    }\n",
       "</style>\n",
       "<table border=\"1\" class=\"dataframe\">\n",
       "  <thead>\n",
       "    <tr style=\"text-align: right;\">\n",
       "      <th></th>\n",
       "      <th>value</th>\n",
       "      <th>daily return</th>\n",
       "      <th>daily return ann</th>\n",
       "      <th>total return</th>\n",
       "      <th>risk free rate</th>\n",
       "      <th>risk free rate daily</th>\n",
       "      <th>excess return</th>\n",
       "      <th>excess return daily</th>\n",
       "      <th>daily PnL</th>\n",
       "      <th>total PnL</th>\n",
       "    </tr>\n",
       "  </thead>\n",
       "  <tbody>\n",
       "    <tr>\n",
       "      <th>count</th>\n",
       "      <td>8833.000000</td>\n",
       "      <td>8832.000000</td>\n",
       "      <td>8.832000e+03</td>\n",
       "      <td>8832.000000</td>\n",
       "      <td>8790.000000</td>\n",
       "      <td>8790.000000</td>\n",
       "      <td>8.789000e+03</td>\n",
       "      <td>8789.000000</td>\n",
       "      <td>8832.000000</td>\n",
       "      <td>8832.000000</td>\n",
       "    </tr>\n",
       "    <tr>\n",
       "      <th>mean</th>\n",
       "      <td>91.410905</td>\n",
       "      <td>0.000473</td>\n",
       "      <td>1.618463e+13</td>\n",
       "      <td>8.170011</td>\n",
       "      <td>0.048241</td>\n",
       "      <td>0.000130</td>\n",
       "      <td>1.626382e+13</td>\n",
       "      <td>0.000338</td>\n",
       "      <td>0.039037</td>\n",
       "      <td>81.450659</td>\n",
       "    </tr>\n",
       "    <tr>\n",
       "      <th>std</th>\n",
       "      <td>74.364430</td>\n",
       "      <td>0.011688</td>\n",
       "      <td>1.408506e+15</td>\n",
       "      <td>7.459134</td>\n",
       "      <td>0.022859</td>\n",
       "      <td>0.000060</td>\n",
       "      <td>1.411947e+15</td>\n",
       "      <td>0.011706</td>\n",
       "      <td>1.376222</td>\n",
       "      <td>74.363590</td>\n",
       "    </tr>\n",
       "    <tr>\n",
       "      <th>min</th>\n",
       "      <td>9.693998</td>\n",
       "      <td>-0.204649</td>\n",
       "      <td>-1.000000e+00</td>\n",
       "      <td>-0.027631</td>\n",
       "      <td>0.004990</td>\n",
       "      <td>0.000014</td>\n",
       "      <td>-1.102300e+00</td>\n",
       "      <td>-0.204918</td>\n",
       "      <td>-29.584320</td>\n",
       "      <td>-0.275469</td>\n",
       "    </tr>\n",
       "    <tr>\n",
       "      <th>25%</th>\n",
       "      <td>26.499744</td>\n",
       "      <td>-0.004183</td>\n",
       "      <td>-7.788449e-01</td>\n",
       "      <td>1.658446</td>\n",
       "      <td>0.027502</td>\n",
       "      <td>0.000075</td>\n",
       "      <td>-8.303978e-01</td>\n",
       "      <td>-0.004329</td>\n",
       "      <td>-0.243201</td>\n",
       "      <td>16.533826</td>\n",
       "    </tr>\n",
       "    <tr>\n",
       "      <th>50%</th>\n",
       "      <td>77.715508</td>\n",
       "      <td>0.000691</td>\n",
       "      <td>2.821215e-01</td>\n",
       "      <td>6.796972</td>\n",
       "      <td>0.046400</td>\n",
       "      <td>0.000126</td>\n",
       "      <td>2.292074e-01</td>\n",
       "      <td>0.000553</td>\n",
       "      <td>0.029929</td>\n",
       "      <td>67.762188</td>\n",
       "    </tr>\n",
       "    <tr>\n",
       "      <th>75%</th>\n",
       "      <td>107.777855</td>\n",
       "      <td>0.005736</td>\n",
       "      <td>6.838076e+00</td>\n",
       "      <td>9.812802</td>\n",
       "      <td>0.065890</td>\n",
       "      <td>0.000177</td>\n",
       "      <td>6.788792e+00</td>\n",
       "      <td>0.005604</td>\n",
       "      <td>0.370338</td>\n",
       "      <td>97.828411</td>\n",
       "    </tr>\n",
       "    <tr>\n",
       "      <th>max</th>\n",
       "      <td>355.809998</td>\n",
       "      <td>0.115723</td>\n",
       "      <td>1.319313e+17</td>\n",
       "      <td>34.689971</td>\n",
       "      <td>0.102300</td>\n",
       "      <td>0.000271</td>\n",
       "      <td>1.319313e+17</td>\n",
       "      <td>0.115618</td>\n",
       "      <td>21.052658</td>\n",
       "      <td>345.840530</td>\n",
       "    </tr>\n",
       "  </tbody>\n",
       "</table>\n",
       "</div>"
      ],
      "text/plain": [
       "             value  daily return  daily return ann  total return  \\\n",
       "count  8833.000000   8832.000000      8.832000e+03   8832.000000   \n",
       "mean     91.410905      0.000473      1.618463e+13      8.170011   \n",
       "std      74.364430      0.011688      1.408506e+15      7.459134   \n",
       "min       9.693998     -0.204649     -1.000000e+00     -0.027631   \n",
       "25%      26.499744     -0.004183     -7.788449e-01      1.658446   \n",
       "50%      77.715508      0.000691      2.821215e-01      6.796972   \n",
       "75%     107.777855      0.005736      6.838076e+00      9.812802   \n",
       "max     355.809998      0.115723      1.319313e+17     34.689971   \n",
       "\n",
       "       risk free rate  risk free rate daily  excess return  \\\n",
       "count     8790.000000           8790.000000   8.789000e+03   \n",
       "mean         0.048241              0.000130   1.626382e+13   \n",
       "std          0.022859              0.000060   1.411947e+15   \n",
       "min          0.004990              0.000014  -1.102300e+00   \n",
       "25%          0.027502              0.000075  -8.303978e-01   \n",
       "50%          0.046400              0.000126   2.292074e-01   \n",
       "75%          0.065890              0.000177   6.788792e+00   \n",
       "max          0.102300              0.000271   1.319313e+17   \n",
       "\n",
       "       excess return daily    daily PnL    total PnL  \n",
       "count          8789.000000  8832.000000  8832.000000  \n",
       "mean              0.000338     0.039037    81.450659  \n",
       "std               0.011706     1.376222    74.363590  \n",
       "min              -0.204918   -29.584320    -0.275469  \n",
       "25%              -0.004329    -0.243201    16.533826  \n",
       "50%               0.000553     0.029929    67.762188  \n",
       "75%               0.005604     0.370338    97.828411  \n",
       "max               0.115618    21.052658   345.840530  "
      ]
     },
     "execution_count": 50,
     "metadata": {},
     "output_type": "execute_result"
    }
   ],
   "source": [
    "portf_res.describe()"
   ]
  },
  {
   "cell_type": "code",
   "execution_count": 51,
   "id": "47a4ad15",
   "metadata": {},
   "outputs": [
    {
     "data": {
      "image/png": "[encoded data removed]",
      "text/plain": [
       "<Figure size 432x288 with 1 Axes>"
      ]
     },
     "metadata": {
      "needs_background": "light"
     },
     "output_type": "display_data"
    }
   ],
   "source": [
    "_cols = ['daily return']\n",
    "_data = portf_res[_cols] * 100\n",
    "_data.plot()\n",
    "\n",
    "plt.grid()\n",
    "plt.show()"
   ]
  },
  {
   "cell_type": "code",
   "execution_count": 52,
   "id": "26c85095",
   "metadata": {},
   "outputs": [
    {
     "data": {
      "image/png": "[encoded data removed]",
      "text/plain": [
       "<Figure size 432x288 with 1 Axes>"
      ]
     },
     "metadata": {
      "needs_background": "light"
     },
     "output_type": "display_data"
    }
   ],
   "source": [
    "_cols = ['daily return', 'risk free rate daily', 'excess return daily']\n",
    "_data = portf_res[_cols] * 100\n",
    "_data.plot()\n",
    "\n",
    "plt.grid()\n",
    "plt.show()"
   ]
  },
  {
   "cell_type": "code",
   "execution_count": 53,
   "id": "c183b107",
   "metadata": {},
   "outputs": [
    {
     "data": {
      "image/png": "[encoded data removed]",
      "text/plain": [
       "<Figure size 432x288 with 1 Axes>"
      ]
     },
     "metadata": {
      "needs_background": "light"
     },
     "output_type": "display_data"
    }
   ],
   "source": [
    "_cols = ['daily return', 'risk free rate', 'excess return daily']\n",
    "_data = portf_res[_cols] * 100\n",
    "_data.plot()\n",
    "\n",
    "plt.grid()\n",
    "plt.show()"
   ]
  },
  {
   "cell_type": "code",
   "execution_count": 54,
   "id": "ec401335",
   "metadata": {},
   "outputs": [
    {
     "data": {
      "image/png": "[encoded data removed]",
      "text/plain": [
       "<Figure size 432x288 with 1 Axes>"
      ]
     },
     "metadata": {
      "needs_background": "light"
     },
     "output_type": "display_data"
    }
   ],
   "source": [
    "_cols = ['total PnL']\n",
    "_data = portf_res[_cols]\n",
    "_data.plot()\n",
    "\n",
    "plt.grid()\n",
    "plt.show()"
   ]
  },
  {
   "cell_type": "code",
   "execution_count": 55,
   "id": "18501647",
   "metadata": {},
   "outputs": [
    {
     "data": {
      "image/png": "[encoded data removed]",
      "text/plain": [
       "<Figure size 432x288 with 1 Axes>"
      ]
     },
     "metadata": {
      "needs_background": "light"
     },
     "output_type": "display_data"
    }
   ],
   "source": [
    "_cols = ['total return']\n",
    "_data = portf_res[_cols] * 100\n",
    "_data.plot()\n",
    "\n",
    "plt.grid()\n",
    "plt.show()"
   ]
  },
  {
   "cell_type": "markdown",
   "id": "33d51c52",
   "metadata": {},
   "source": [
    "## Buy and hodl CAGR"
   ]
  },
  {
   "cell_type": "code",
   "execution_count": 56,
   "id": "3551ae01",
   "metadata": {},
   "outputs": [
    {
     "data": {
      "text/plain": [
       "0.10744225828819376"
      ]
     },
     "execution_count": 56,
     "metadata": {},
     "output_type": "execute_result"
    }
   ],
   "source": [
    "(portf_res['total return'].iloc[-1] + 1) ** (1 / 35) - 1"
   ]
  },
  {
   "cell_type": "markdown",
   "id": "58c1dd2b",
   "metadata": {},
   "source": [
    "## Sharpe"
   ]
  },
  {
   "cell_type": "code",
   "execution_count": 57,
   "id": "9fd11e5a",
   "metadata": {},
   "outputs": [
    {
     "data": {
      "text/plain": [
       "0.011518717683548022"
      ]
     },
     "execution_count": 57,
     "metadata": {},
     "output_type": "execute_result"
    }
   ],
   "source": [
    "portf_res['excess return'].mean() / portf_res['excess return'].std()"
   ]
  },
  {
   "cell_type": "code",
   "execution_count": 58,
   "id": "420e408c",
   "metadata": {},
   "outputs": [
    {
     "data": {
      "text/plain": [
       "0.02888785870970048"
      ]
     },
     "execution_count": 58,
     "metadata": {},
     "output_type": "execute_result"
    }
   ],
   "source": [
    "portf_res['excess return daily'].mean() / portf_res['excess return daily'].std()"
   ]
  },
  {
   "cell_type": "markdown",
   "id": "7a08b2b6",
   "metadata": {},
   "source": [
    "# Testing if my backtester works properly on a small artificial sample"
   ]
  },
  {
   "cell_type": "code",
   "execution_count": 93,
   "id": "7dd3e0af",
   "metadata": {},
   "outputs": [],
   "source": [
    "portfolio = pd.read_excel(f'{source_folder}/test_portfolio.xlsx', index_col=[0, 1])\n",
    "portfolio['rebalance'].replace(np.nan, 0, inplace=True)\n",
    "\n",
    "# secs = portfolio.index.get_level_values('sec').unique().values\n",
    "secs = ['VFINX']"
   ]
  },
  {
   "cell_type": "code",
   "execution_count": 94,
   "id": "8fe25ec6",
   "metadata": {},
   "outputs": [],
   "source": [
    "portfolio = portfolio.unstack(level='sec').copy()"
   ]
  },
  {
   "cell_type": "code",
   "execution_count": 16,
   "id": "ec284548",
   "metadata": {},
   "outputs": [],
   "source": [
    "dates = portfolio.index\n",
    "\n",
    "quotes = portfolio.xs('price', axis='columns', level=0).copy()\n",
    "\n",
    "allocation = portfolio.xs('weight', axis='columns', level=0).copy()\n",
    "\n",
    "positions = portfolio.xs('#', axis='columns', level=0).copy()\n",
    "\n",
    "positions_values = portfolio.xs('value', axis='columns', level=0).copy()\n",
    "\n",
    "\n",
    "_combined = {'price': quotes, 'weight': allocation, '#': positions, 'value': positions_values}"
   ]
  },
  {
   "cell_type": "code",
   "execution_count": 17,
   "id": "a5fa8fe7",
   "metadata": {},
   "outputs": [],
   "source": [
    "nav = pd.Series(index=dates, dtype=float, name='NAV')\n",
    "\n",
    "capital = 1e2\n",
    "nav.iloc[0] = capital"
   ]
  },
  {
   "cell_type": "code",
   "execution_count": 18,
   "id": "0c88be98",
   "metadata": {},
   "outputs": [],
   "source": [
    "_p = pd.concat(_combined, axis='columns', join='outer')\n",
    "\n",
    "_p.columns.names = ['attr', 'sec']\n",
    "\n",
    "_p['nav'] = nav\n",
    "\n",
    "_p.iloc[1:] = np.nan"
   ]
  },
  {
   "cell_type": "code",
   "execution_count": 19,
   "id": "e1370635",
   "metadata": {},
   "outputs": [
    {
     "data": {
      "text/html": [
       "<div>\n",
       "<style scoped>\n",
       "    .dataframe tbody tr th:only-of-type {\n",
       "        vertical-align: middle;\n",
       "    }\n",
       "\n",
       "    .dataframe tbody tr th {\n",
       "        vertical-align: top;\n",
       "    }\n",
       "\n",
       "    .dataframe thead tr th {\n",
       "        text-align: left;\n",
       "    }\n",
       "\n",
       "    .dataframe thead tr:last-of-type th {\n",
       "        text-align: right;\n",
       "    }\n",
       "</style>\n",
       "<table border=\"1\" class=\"dataframe\">\n",
       "  <thead>\n",
       "    <tr>\n",
       "      <th>attr</th>\n",
       "      <th colspan=\"2\" halign=\"left\">price</th>\n",
       "      <th colspan=\"2\" halign=\"left\">weight</th>\n",
       "      <th colspan=\"2\" halign=\"left\">#</th>\n",
       "      <th colspan=\"2\" halign=\"left\">value</th>\n",
       "      <th>nav</th>\n",
       "    </tr>\n",
       "    <tr>\n",
       "      <th>sec</th>\n",
       "      <th>VFINX</th>\n",
       "      <th>cash</th>\n",
       "      <th>VFINX</th>\n",
       "      <th>cash</th>\n",
       "      <th>VFINX</th>\n",
       "      <th>cash</th>\n",
       "      <th>VFINX</th>\n",
       "      <th>cash</th>\n",
       "      <th></th>\n",
       "    </tr>\n",
       "    <tr>\n",
       "      <th>date</th>\n",
       "      <th></th>\n",
       "      <th></th>\n",
       "      <th></th>\n",
       "      <th></th>\n",
       "      <th></th>\n",
       "      <th></th>\n",
       "      <th></th>\n",
       "      <th></th>\n",
       "      <th></th>\n",
       "    </tr>\n",
       "  </thead>\n",
       "  <tbody>\n",
       "    <tr>\n",
       "      <th>2020-02-01</th>\n",
       "      <td>10.0</td>\n",
       "      <td>1.0</td>\n",
       "      <td>0.5</td>\n",
       "      <td>0.5</td>\n",
       "      <td>5.0</td>\n",
       "      <td>50.0</td>\n",
       "      <td>50.0</td>\n",
       "      <td>50.0</td>\n",
       "      <td>100.0</td>\n",
       "    </tr>\n",
       "    <tr>\n",
       "      <th>2020-02-02</th>\n",
       "      <td>NaN</td>\n",
       "      <td>NaN</td>\n",
       "      <td>NaN</td>\n",
       "      <td>NaN</td>\n",
       "      <td>NaN</td>\n",
       "      <td>NaN</td>\n",
       "      <td>NaN</td>\n",
       "      <td>NaN</td>\n",
       "      <td>NaN</td>\n",
       "    </tr>\n",
       "    <tr>\n",
       "      <th>2020-02-03</th>\n",
       "      <td>NaN</td>\n",
       "      <td>NaN</td>\n",
       "      <td>NaN</td>\n",
       "      <td>NaN</td>\n",
       "      <td>NaN</td>\n",
       "      <td>NaN</td>\n",
       "      <td>NaN</td>\n",
       "      <td>NaN</td>\n",
       "      <td>NaN</td>\n",
       "    </tr>\n",
       "  </tbody>\n",
       "</table>\n",
       "</div>"
      ],
      "text/plain": [
       "attr       price      weight          #       value          nav\n",
       "sec        VFINX cash  VFINX cash VFINX  cash VFINX  cash       \n",
       "date                                                            \n",
       "2020-02-01  10.0  1.0    0.5  0.5   5.0  50.0  50.0  50.0  100.0\n",
       "2020-02-02   NaN  NaN    NaN  NaN   NaN   NaN   NaN   NaN    NaN\n",
       "2020-02-03   NaN  NaN    NaN  NaN   NaN   NaN   NaN   NaN    NaN"
      ]
     },
     "execution_count": 19,
     "metadata": {},
     "output_type": "execute_result"
    }
   ],
   "source": [
    "_p"
   ]
  },
  {
   "cell_type": "code",
   "execution_count": 20,
   "id": "c5aaf8af",
   "metadata": {},
   "outputs": [],
   "source": [
    "exog = pd.DataFrame([0, 1, 0], index=dates, columns=['flag'])"
   ]
  },
  {
   "cell_type": "code",
   "execution_count": 21,
   "id": "a16cc668",
   "metadata": {},
   "outputs": [
    {
     "data": {
      "text/html": [
       "<div>\n",
       "<style scoped>\n",
       "    .dataframe tbody tr th:only-of-type {\n",
       "        vertical-align: middle;\n",
       "    }\n",
       "\n",
       "    .dataframe tbody tr th {\n",
       "        vertical-align: top;\n",
       "    }\n",
       "\n",
       "    .dataframe thead th {\n",
       "        text-align: right;\n",
       "    }\n",
       "</style>\n",
       "<table border=\"1\" class=\"dataframe\">\n",
       "  <thead>\n",
       "    <tr style=\"text-align: right;\">\n",
       "      <th></th>\n",
       "      <th>flag</th>\n",
       "    </tr>\n",
       "    <tr>\n",
       "      <th>date</th>\n",
       "      <th></th>\n",
       "    </tr>\n",
       "  </thead>\n",
       "  <tbody>\n",
       "    <tr>\n",
       "      <th>2020-02-01</th>\n",
       "      <td>0</td>\n",
       "    </tr>\n",
       "    <tr>\n",
       "      <th>2020-02-02</th>\n",
       "      <td>1</td>\n",
       "    </tr>\n",
       "    <tr>\n",
       "      <th>2020-02-03</th>\n",
       "      <td>0</td>\n",
       "    </tr>\n",
       "  </tbody>\n",
       "</table>\n",
       "</div>"
      ],
      "text/plain": [
       "            flag\n",
       "date            \n",
       "2020-02-01     0\n",
       "2020-02-02     1\n",
       "2020-02-03     0"
      ]
     },
     "execution_count": 21,
     "metadata": {},
     "output_type": "execute_result"
    }
   ],
   "source": [
    "exog"
   ]
  },
  {
   "cell_type": "code",
   "execution_count": 22,
   "id": "e0bf29bb",
   "metadata": {},
   "outputs": [
    {
     "data": {
      "text/html": [
       "<div>\n",
       "<style scoped>\n",
       "    .dataframe tbody tr th:only-of-type {\n",
       "        vertical-align: middle;\n",
       "    }\n",
       "\n",
       "    .dataframe tbody tr th {\n",
       "        vertical-align: top;\n",
       "    }\n",
       "\n",
       "    .dataframe thead th {\n",
       "        text-align: right;\n",
       "    }\n",
       "</style>\n",
       "<table border=\"1\" class=\"dataframe\">\n",
       "  <thead>\n",
       "    <tr style=\"text-align: right;\">\n",
       "      <th>sec</th>\n",
       "      <th>VFINX</th>\n",
       "    </tr>\n",
       "    <tr>\n",
       "      <th>date</th>\n",
       "      <th></th>\n",
       "    </tr>\n",
       "  </thead>\n",
       "  <tbody>\n",
       "    <tr>\n",
       "      <th>2020-02-01</th>\n",
       "      <td>10</td>\n",
       "    </tr>\n",
       "    <tr>\n",
       "      <th>2020-02-02</th>\n",
       "      <td>11</td>\n",
       "    </tr>\n",
       "    <tr>\n",
       "      <th>2020-02-03</th>\n",
       "      <td>12</td>\n",
       "    </tr>\n",
       "  </tbody>\n",
       "</table>\n",
       "</div>"
      ],
      "text/plain": [
       "sec         VFINX\n",
       "date             \n",
       "2020-02-01     10\n",
       "2020-02-02     11\n",
       "2020-02-03     12"
      ]
     },
     "execution_count": 22,
     "metadata": {},
     "output_type": "execute_result"
    }
   ],
   "source": [
    "quotes[secs]"
   ]
  },
  {
   "cell_type": "code",
   "execution_count": 23,
   "id": "1709219f",
   "metadata": {},
   "outputs": [],
   "source": [
    "logging.basicConfig(level=logging.DEBUG)"
   ]
  },
  {
   "cell_type": "code",
   "execution_count": 24,
   "id": "5e5143f5",
   "metadata": {},
   "outputs": [],
   "source": [
    "ini_positions = pd.Series({'VFINX': 5, 'cash': 50})"
   ]
  },
  {
   "cell_type": "code",
   "execution_count": 25,
   "id": "0c2b62d0",
   "metadata": {
    "scrolled": true
   },
   "outputs": [
    {
     "name": "stderr",
     "output_type": "stream",
     "text": [
      "INFO:PortfolioBacktesting:Creating an instance of PortfolioBacktesting\n",
      "DEBUG:PortfolioBacktesting:quotes:\n",
      "sec         VFINX  cash\n",
      "date                   \n",
      "2020-02-01     10     1\n",
      "2020-02-02     11     1\n",
      "2020-02-03     12     1\n",
      "DEBUG:PortfolioBacktesting:rebalance_prices:\n",
      "            VFINX  cash\n",
      "date                   \n",
      "2020-02-01    NaN     1\n",
      "2020-02-02    NaN     1\n",
      "2020-02-03    NaN     1\n",
      "DEBUG:PortfolioBacktesting:positions:\n",
      "            VFINX  cash\n",
      "date                   \n",
      "2020-02-01    5.0  50.0\n",
      "2020-02-02    NaN   NaN\n",
      "2020-02-03    NaN   NaN\n",
      "DEBUG:PortfolioBacktesting:positions_values:\n",
      "            VFINX  cash\n",
      "date                   \n",
      "2020-02-01   50.0  50.0\n",
      "2020-02-02    NaN   NaN\n",
      "2020-02-03    NaN   NaN\n",
      "DEBUG:PortfolioBacktesting:nav:\n",
      "date\n",
      "2020-02-01    100.0\n",
      "2020-02-02      NaN\n",
      "2020-02-03      NaN\n",
      "Name: NAV, dtype: float64\n",
      "DEBUG:PortfolioBacktesting:allocation:\n",
      "            VFINX  cash\n",
      "date                   \n",
      "2020-02-01    0.5   0.5\n",
      "2020-02-02    NaN   NaN\n",
      "2020-02-03    NaN   NaN\n"
     ]
    }
   ],
   "source": [
    "pb = PortfolioBacktest(securities=secs,\n",
    "                       dates=dates,\n",
    "                       quotes=quotes[secs],\n",
    "                       capital=capital,\n",
    "                       ini_positions=ini_positions,\n",
    "                       max_loan=0)"
   ]
  },
  {
   "cell_type": "code",
   "execution_count": 26,
   "id": "d0f012e1",
   "metadata": {},
   "outputs": [
    {
     "name": "stderr",
     "output_type": "stream",
     "text": [
      "INFO:PortfolioBacktesting:Starting rebalance procedure. Date: 2020-02-02 00:00:00, next date: 2020-02-03 00:00:00, positions_change: {'VFINX': -1}, rebalance_prices:\n",
      "sec\n",
      "VFINX    12\n",
      "cash      1\n",
      "Name: 2020-02-03 00:00:00, dtype: int64\n",
      "DEBUG:PortfolioBacktesting:positions_change.loc['cash']: 12.0\n",
      "DEBUG:PortfolioBacktesting:value_change:\n",
      "VFINX   -12.0\n",
      "cash     12.0\n",
      "dtype: float64\n",
      "DEBUG:PortfolioBacktesting:positions_next:\n",
      "VFINX     4.0\n",
      "cash     62.0\n",
      "dtype: float64\n",
      "DEBUG:PortfolioBacktesting:positions_values_next:\n",
      "VFINX    48.0\n",
      "cash     62.0\n",
      "dtype: float64\n",
      "DEBUG:PortfolioBacktesting:nav_next: 110.0\n",
      "DEBUG:PortfolioBacktesting:allocation_next:\n",
      "VFINX    0.436364\n",
      "cash     0.563636\n",
      "dtype: float64\n",
      "INFO:PortfolioBacktesting:Rebalance is possible? - True\n",
      "INFO:PortfolioBacktesting:Rebalance successfully completed\n"
     ]
    }
   ],
   "source": [
    "pb.apply_strategy(exogenous=exog['flag'])"
   ]
  },
  {
   "cell_type": "code",
   "execution_count": 27,
   "id": "e4d287b5",
   "metadata": {
    "scrolled": true
   },
   "outputs": [
    {
     "data": {
      "text/html": [
       "<div>\n",
       "<style scoped>\n",
       "    .dataframe tbody tr th:only-of-type {\n",
       "        vertical-align: middle;\n",
       "    }\n",
       "\n",
       "    .dataframe tbody tr th {\n",
       "        vertical-align: top;\n",
       "    }\n",
       "\n",
       "    .dataframe thead tr th {\n",
       "        text-align: left;\n",
       "    }\n",
       "\n",
       "    .dataframe thead tr:last-of-type th {\n",
       "        text-align: right;\n",
       "    }\n",
       "</style>\n",
       "<table border=\"1\" class=\"dataframe\">\n",
       "  <thead>\n",
       "    <tr>\n",
       "      <th>attr</th>\n",
       "      <th colspan=\"2\" halign=\"left\">price</th>\n",
       "      <th colspan=\"2\" halign=\"left\">weight</th>\n",
       "      <th colspan=\"2\" halign=\"left\">#</th>\n",
       "      <th colspan=\"2\" halign=\"left\">value</th>\n",
       "      <th colspan=\"2\" halign=\"left\">rebalance price</th>\n",
       "      <th>nav</th>\n",
       "    </tr>\n",
       "    <tr>\n",
       "      <th>sec</th>\n",
       "      <th>VFINX</th>\n",
       "      <th>cash</th>\n",
       "      <th>VFINX</th>\n",
       "      <th>cash</th>\n",
       "      <th>VFINX</th>\n",
       "      <th>cash</th>\n",
       "      <th>VFINX</th>\n",
       "      <th>cash</th>\n",
       "      <th>VFINX</th>\n",
       "      <th>cash</th>\n",
       "      <th></th>\n",
       "    </tr>\n",
       "    <tr>\n",
       "      <th>date</th>\n",
       "      <th></th>\n",
       "      <th></th>\n",
       "      <th></th>\n",
       "      <th></th>\n",
       "      <th></th>\n",
       "      <th></th>\n",
       "      <th></th>\n",
       "      <th></th>\n",
       "      <th></th>\n",
       "      <th></th>\n",
       "      <th></th>\n",
       "    </tr>\n",
       "  </thead>\n",
       "  <tbody>\n",
       "    <tr>\n",
       "      <th>2020-02-01</th>\n",
       "      <td>10</td>\n",
       "      <td>1</td>\n",
       "      <td>0.500000</td>\n",
       "      <td>0.500000</td>\n",
       "      <td>5.0</td>\n",
       "      <td>50.0</td>\n",
       "      <td>50.0</td>\n",
       "      <td>50.0</td>\n",
       "      <td>NaN</td>\n",
       "      <td>1</td>\n",
       "      <td>100.0</td>\n",
       "    </tr>\n",
       "    <tr>\n",
       "      <th>2020-02-02</th>\n",
       "      <td>11</td>\n",
       "      <td>1</td>\n",
       "      <td>0.523810</td>\n",
       "      <td>0.476190</td>\n",
       "      <td>5.0</td>\n",
       "      <td>50.0</td>\n",
       "      <td>55.0</td>\n",
       "      <td>50.0</td>\n",
       "      <td>NaN</td>\n",
       "      <td>1</td>\n",
       "      <td>105.0</td>\n",
       "    </tr>\n",
       "    <tr>\n",
       "      <th>2020-02-03</th>\n",
       "      <td>12</td>\n",
       "      <td>1</td>\n",
       "      <td>0.436364</td>\n",
       "      <td>0.563636</td>\n",
       "      <td>4.0</td>\n",
       "      <td>62.0</td>\n",
       "      <td>48.0</td>\n",
       "      <td>62.0</td>\n",
       "      <td>12.0</td>\n",
       "      <td>1</td>\n",
       "      <td>110.0</td>\n",
       "    </tr>\n",
       "  </tbody>\n",
       "</table>\n",
       "</div>"
      ],
      "text/plain": [
       "attr       price         weight               #       value        \\\n",
       "sec        VFINX cash     VFINX      cash VFINX  cash VFINX  cash   \n",
       "date                                                                \n",
       "2020-02-01    10    1  0.500000  0.500000   5.0  50.0  50.0  50.0   \n",
       "2020-02-02    11    1  0.523810  0.476190   5.0  50.0  55.0  50.0   \n",
       "2020-02-03    12    1  0.436364  0.563636   4.0  62.0  48.0  62.0   \n",
       "\n",
       "attr       rebalance price         nav  \n",
       "sec                  VFINX cash         \n",
       "date                                    \n",
       "2020-02-01             NaN    1  100.0  \n",
       "2020-02-02             NaN    1  105.0  \n",
       "2020-02-03            12.0    1  110.0  "
      ]
     },
     "execution_count": 27,
     "metadata": {},
     "output_type": "execute_result"
    }
   ],
   "source": [
    "pb.get_combined_df()"
   ]
  },
  {
   "cell_type": "code",
   "execution_count": 95,
   "id": "0be3c26d",
   "metadata": {
    "scrolled": true
   },
   "outputs": [
    {
     "data": {
      "text/html": [
       "<div>\n",
       "<style scoped>\n",
       "    .dataframe tbody tr th:only-of-type {\n",
       "        vertical-align: middle;\n",
       "    }\n",
       "\n",
       "    .dataframe tbody tr th {\n",
       "        vertical-align: top;\n",
       "    }\n",
       "\n",
       "    .dataframe thead tr th {\n",
       "        text-align: left;\n",
       "    }\n",
       "\n",
       "    .dataframe thead tr:last-of-type th {\n",
       "        text-align: right;\n",
       "    }\n",
       "</style>\n",
       "<table border=\"1\" class=\"dataframe\">\n",
       "  <thead>\n",
       "    <tr>\n",
       "      <th></th>\n",
       "      <th colspan=\"2\" halign=\"left\">price</th>\n",
       "      <th colspan=\"2\" halign=\"left\">weight</th>\n",
       "      <th colspan=\"2\" halign=\"left\">#</th>\n",
       "      <th colspan=\"2\" halign=\"left\">value</th>\n",
       "      <th colspan=\"2\" halign=\"left\">rebalance</th>\n",
       "      <th colspan=\"2\" halign=\"left\">rebalance price</th>\n",
       "      <th colspan=\"2\" halign=\"left\">total</th>\n",
       "    </tr>\n",
       "    <tr>\n",
       "      <th>sec</th>\n",
       "      <th>VFINX</th>\n",
       "      <th>cash</th>\n",
       "      <th>VFINX</th>\n",
       "      <th>cash</th>\n",
       "      <th>VFINX</th>\n",
       "      <th>cash</th>\n",
       "      <th>VFINX</th>\n",
       "      <th>cash</th>\n",
       "      <th>VFINX</th>\n",
       "      <th>cash</th>\n",
       "      <th>VFINX</th>\n",
       "      <th>cash</th>\n",
       "      <th>VFINX</th>\n",
       "      <th>cash</th>\n",
       "    </tr>\n",
       "    <tr>\n",
       "      <th>date</th>\n",
       "      <th></th>\n",
       "      <th></th>\n",
       "      <th></th>\n",
       "      <th></th>\n",
       "      <th></th>\n",
       "      <th></th>\n",
       "      <th></th>\n",
       "      <th></th>\n",
       "      <th></th>\n",
       "      <th></th>\n",
       "      <th></th>\n",
       "      <th></th>\n",
       "      <th></th>\n",
       "      <th></th>\n",
       "    </tr>\n",
       "  </thead>\n",
       "  <tbody>\n",
       "    <tr>\n",
       "      <th>2020-02-01</th>\n",
       "      <td>10</td>\n",
       "      <td>1</td>\n",
       "      <td>0.500000</td>\n",
       "      <td>0.500000</td>\n",
       "      <td>5</td>\n",
       "      <td>50</td>\n",
       "      <td>50</td>\n",
       "      <td>50</td>\n",
       "      <td>0.0</td>\n",
       "      <td>0.0</td>\n",
       "      <td>NaN</td>\n",
       "      <td>1.0</td>\n",
       "      <td>100.0</td>\n",
       "      <td>NaN</td>\n",
       "    </tr>\n",
       "    <tr>\n",
       "      <th>2020-02-02</th>\n",
       "      <td>11</td>\n",
       "      <td>1</td>\n",
       "      <td>0.523810</td>\n",
       "      <td>0.476190</td>\n",
       "      <td>5</td>\n",
       "      <td>50</td>\n",
       "      <td>55</td>\n",
       "      <td>50</td>\n",
       "      <td>0.0</td>\n",
       "      <td>0.0</td>\n",
       "      <td>NaN</td>\n",
       "      <td>1.0</td>\n",
       "      <td>105.0</td>\n",
       "      <td>NaN</td>\n",
       "    </tr>\n",
       "    <tr>\n",
       "      <th>2020-02-03</th>\n",
       "      <td>12</td>\n",
       "      <td>1</td>\n",
       "      <td>0.436364</td>\n",
       "      <td>0.563636</td>\n",
       "      <td>4</td>\n",
       "      <td>62</td>\n",
       "      <td>48</td>\n",
       "      <td>62</td>\n",
       "      <td>-1.0</td>\n",
       "      <td>12.0</td>\n",
       "      <td>12.0</td>\n",
       "      <td>1.0</td>\n",
       "      <td>110.0</td>\n",
       "      <td>NaN</td>\n",
       "    </tr>\n",
       "  </tbody>\n",
       "</table>\n",
       "</div>"
      ],
      "text/plain": [
       "           price         weight               #      value      rebalance  \\\n",
       "sec        VFINX cash     VFINX      cash VFINX cash VFINX cash     VFINX   \n",
       "date                                                                        \n",
       "2020-02-01    10    1  0.500000  0.500000     5   50    50   50       0.0   \n",
       "2020-02-02    11    1  0.523810  0.476190     5   50    55   50       0.0   \n",
       "2020-02-03    12    1  0.436364  0.563636     4   62    48   62      -1.0   \n",
       "\n",
       "                 rebalance price       total       \n",
       "sec         cash           VFINX cash  VFINX cash  \n",
       "date                                               \n",
       "2020-02-01   0.0             NaN  1.0  100.0  NaN  \n",
       "2020-02-02   0.0             NaN  1.0  105.0  NaN  \n",
       "2020-02-03  12.0            12.0  1.0  110.0  NaN  "
      ]
     },
     "execution_count": 95,
     "metadata": {},
     "output_type": "execute_result"
    }
   ],
   "source": [
    "portfolio"
   ]
  },
  {
   "cell_type": "code",
   "execution_count": 99,
   "id": "021020d5",
   "metadata": {},
   "outputs": [
    {
     "data": {
      "text/plain": [
       "attr             sec  \n",
       "price            VFINX    True\n",
       "                 cash     True\n",
       "weight           VFINX    True\n",
       "                 cash     True\n",
       "#                VFINX    True\n",
       "                 cash     True\n",
       "value            VFINX    True\n",
       "                 cash     True\n",
       "rebalance price  VFINX    True\n",
       "                 cash     True\n",
       "dtype: bool"
      ]
     },
     "execution_count": 99,
     "metadata": {},
     "output_type": "execute_result"
    }
   ],
   "source": [
    "res = pb.get_combined_df().copy()\n",
    "my_res = res[res.columns[res.columns.get_level_values(0) != 'nav']].copy()\n",
    "test_portf = portfolio.loc[:, idx[(portfolio.columns.get_level_values(0) != 'total') & \\\n",
    "                                  (portfolio.columns.get_level_values(0) != 'rebalance'), :]].copy()\n",
    "\n",
    "_tol = 1e-10\n",
    "(abs(my_res.replace(np.nan, 0) - test_portf.replace(np.nan, 0)) < _tol).all()"
   ]
  }
 ],
 "metadata": {
  "kernelspec": {
   "display_name": "Python 3 (ipykernel)",
   "language": "python",
   "name": "python3"
  },
  "language_info": {
   "codemirror_mode": {
    "name": "ipython",
    "version": 3
   },
   "file_extension": ".py",
   "mimetype": "text/x-python",
   "name": "python",
   "nbconvert_exporter": "python",
   "pygments_lexer": "ipython3",
   "version": "3.9.7"
  }
 },
 "nbformat": 4,
 "nbformat_minor": 5
}
